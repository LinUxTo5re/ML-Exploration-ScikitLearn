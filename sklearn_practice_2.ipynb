{
 "cells": [
  {
   "cell_type": "code",
   "execution_count": 1,
   "id": "060b90c6",
   "metadata": {},
   "outputs": [],
   "source": [
    "import pandas as pd\n",
    "import numpy as np\n",
    "import matplotlib.pyplot as plt\n",
    "import seaborn as sns"
   ]
  },
  {
   "cell_type": "code",
   "execution_count": 2,
   "id": "fd865057",
   "metadata": {},
   "outputs": [],
   "source": [
    "from sklearn import datasets"
   ]
  },
  {
   "cell_type": "code",
   "execution_count": 3,
   "id": "cf6b4924",
   "metadata": {},
   "outputs": [],
   "source": [
    "iris=datasets.load_iris()"
   ]
  },
  {
   "cell_type": "code",
   "execution_count": 4,
   "id": "a2282114",
   "metadata": {},
   "outputs": [
    {
     "data": {
      "text/plain": [
       "(150, 4)"
      ]
     },
     "execution_count": 4,
     "metadata": {},
     "output_type": "execute_result"
    }
   ],
   "source": [
    "iris.data.shape"
   ]
  },
  {
   "cell_type": "code",
   "execution_count": 5,
   "id": "92a3345f",
   "metadata": {},
   "outputs": [
    {
     "data": {
      "text/plain": [
       "'.. _iris_dataset:\\n\\nIris plants dataset\\n--------------------\\n\\n**Data Set Characteristics:**\\n\\n    :Number of Instances: 150 (50 in each of three classes)\\n    :Number of Attributes: 4 numeric, predictive attributes and the class\\n    :Attribute Information:\\n        - sepal length in cm\\n        - sepal width in cm\\n        - petal length in cm\\n        - petal width in cm\\n        - class:\\n                - Iris-Setosa\\n                - Iris-Versicolour\\n                - Iris-Virginica\\n                \\n    :Summary Statistics:\\n\\n    ============== ==== ==== ======= ===== ====================\\n                    Min  Max   Mean    SD   Class Correlation\\n    ============== ==== ==== ======= ===== ====================\\n    sepal length:   4.3  7.9   5.84   0.83    0.7826\\n    sepal width:    2.0  4.4   3.05   0.43   -0.4194\\n    petal length:   1.0  6.9   3.76   1.76    0.9490  (high!)\\n    petal width:    0.1  2.5   1.20   0.76    0.9565  (high!)\\n    ============== ==== ==== ======= ===== ====================\\n\\n    :Missing Attribute Values: None\\n    :Class Distribution: 33.3% for each of 3 classes.\\n    :Creator: R.A. Fisher\\n    :Donor: Michael Marshall (MARSHALL%PLU@io.arc.nasa.gov)\\n    :Date: July, 1988\\n\\nThe famous Iris database, first used by Sir R.A. Fisher. The dataset is taken\\nfrom Fisher\\'s paper. Note that it\\'s the same as in R, but not as in the UCI\\nMachine Learning Repository, which has two wrong data points.\\n\\nThis is perhaps the best known database to be found in the\\npattern recognition literature.  Fisher\\'s paper is a classic in the field and\\nis referenced frequently to this day.  (See Duda & Hart, for example.)  The\\ndata set contains 3 classes of 50 instances each, where each class refers to a\\ntype of iris plant.  One class is linearly separable from the other 2; the\\nlatter are NOT linearly separable from each other.\\n\\n.. topic:: References\\n\\n   - Fisher, R.A. \"The use of multiple measurements in taxonomic problems\"\\n     Annual Eugenics, 7, Part II, 179-188 (1936); also in \"Contributions to\\n     Mathematical Statistics\" (John Wiley, NY, 1950).\\n   - Duda, R.O., & Hart, P.E. (1973) Pattern Classification and Scene Analysis.\\n     (Q327.D83) John Wiley & Sons.  ISBN 0-471-22361-1.  See page 218.\\n   - Dasarathy, B.V. (1980) \"Nosing Around the Neighborhood: A New System\\n     Structure and Classification Rule for Recognition in Partially Exposed\\n     Environments\".  IEEE Transactions on Pattern Analysis and Machine\\n     Intelligence, Vol. PAMI-2, No. 1, 67-71.\\n   - Gates, G.W. (1972) \"The Reduced Nearest Neighbor Rule\".  IEEE Transactions\\n     on Information Theory, May 1972, 431-433.\\n   - See also: 1988 MLC Proceedings, 54-64.  Cheeseman et al\"s AUTOCLASS II\\n     conceptual clustering system finds 3 classes in the data.\\n   - Many, many more ...'"
      ]
     },
     "execution_count": 5,
     "metadata": {},
     "output_type": "execute_result"
    }
   ],
   "source": [
    "iris.DESCR"
   ]
  },
  {
   "cell_type": "code",
   "execution_count": 6,
   "id": "63e73aef",
   "metadata": {},
   "outputs": [
    {
     "data": {
      "text/plain": [
       "(150,)"
      ]
     },
     "execution_count": 6,
     "metadata": {},
     "output_type": "execute_result"
    }
   ],
   "source": [
    "iris.target.shape"
   ]
  },
  {
   "cell_type": "code",
   "execution_count": 7,
   "id": "d4f5c250",
   "metadata": {},
   "outputs": [
    {
     "data": {
      "text/plain": [
       "['sepal length (cm)',\n",
       " 'sepal width (cm)',\n",
       " 'petal length (cm)',\n",
       " 'petal width (cm)']"
      ]
     },
     "execution_count": 7,
     "metadata": {},
     "output_type": "execute_result"
    }
   ],
   "source": [
    "iris.feature_names"
   ]
  },
  {
   "cell_type": "code",
   "execution_count": 8,
   "id": "533ad401",
   "metadata": {},
   "outputs": [
    {
     "data": {
      "text/plain": [
       "array(['setosa', 'versicolor', 'virginica'], dtype='<U10')"
      ]
     },
     "execution_count": 8,
     "metadata": {},
     "output_type": "execute_result"
    }
   ],
   "source": [
    "iris.target_names"
   ]
  },
  {
   "cell_type": "code",
   "execution_count": 9,
   "id": "523883b9",
   "metadata": {},
   "outputs": [
    {
     "data": {
      "text/plain": [
       "array([0, 0, 0, 0, 0, 0, 0, 0, 0, 0, 0, 0, 0, 0, 0, 0, 0, 0, 0, 0, 0, 0,\n",
       "       0, 0, 0, 0, 0, 0, 0, 0, 0, 0, 0, 0, 0, 0, 0, 0, 0, 0, 0, 0, 0, 0,\n",
       "       0, 0, 0, 0, 0, 0, 1, 1, 1, 1, 1, 1, 1, 1, 1, 1, 1, 1, 1, 1, 1, 1,\n",
       "       1, 1, 1, 1, 1, 1, 1, 1, 1, 1, 1, 1, 1, 1, 1, 1, 1, 1, 1, 1, 1, 1,\n",
       "       1, 1, 1, 1, 1, 1, 1, 1, 1, 1, 1, 1, 2, 2, 2, 2, 2, 2, 2, 2, 2, 2,\n",
       "       2, 2, 2, 2, 2, 2, 2, 2, 2, 2, 2, 2, 2, 2, 2, 2, 2, 2, 2, 2, 2, 2,\n",
       "       2, 2, 2, 2, 2, 2, 2, 2, 2, 2, 2, 2, 2, 2, 2, 2, 2, 2])"
      ]
     },
     "execution_count": 9,
     "metadata": {},
     "output_type": "execute_result"
    }
   ],
   "source": [
    "iris.target"
   ]
  },
  {
   "cell_type": "code",
   "execution_count": 10,
   "id": "1c7821c2",
   "metadata": {},
   "outputs": [
    {
     "ename": "SyntaxError",
     "evalue": "invalid syntax (2445893794.py, line 1)",
     "output_type": "error",
     "traceback": [
      "\u001b[0;36m  File \u001b[0;32m\"/tmp/ipykernel_3759/2445893794.py\"\u001b[0;36m, line \u001b[0;32m1\u001b[0m\n\u001b[0;31m    iris.\u001b[0m\n\u001b[0m         ^\u001b[0m\n\u001b[0;31mSyntaxError\u001b[0m\u001b[0;31m:\u001b[0m invalid syntax\n"
     ]
    }
   ],
   "source": [
    "iris.\n",
    "# press TAB  for supported methods"
   ]
  },
  {
   "cell_type": "code",
   "execution_count": 11,
   "id": "4e09de3c",
   "metadata": {},
   "outputs": [],
   "source": [
    "x,y=datasets.make_regression(n_features=5,n_samples=500,n_targets=5,noise=.1)"
   ]
  },
  {
   "cell_type": "code",
   "execution_count": 12,
   "id": "ecd831f0",
   "metadata": {},
   "outputs": [
    {
     "data": {
      "text/plain": [
       "(500, 5)"
      ]
     },
     "execution_count": 12,
     "metadata": {},
     "output_type": "execute_result"
    }
   ],
   "source": [
    "x.shape"
   ]
  },
  {
   "cell_type": "code",
   "execution_count": 13,
   "id": "4426802d",
   "metadata": {},
   "outputs": [
    {
     "data": {
      "text/plain": [
       "(500, 5)"
      ]
     },
     "execution_count": 13,
     "metadata": {},
     "output_type": "execute_result"
    }
   ],
   "source": [
    "y.shape"
   ]
  },
  {
   "cell_type": "code",
   "execution_count": 14,
   "id": "77899463",
   "metadata": {
    "scrolled": true
   },
   "outputs": [
    {
     "data": {
      "text/plain": [
       "<matplotlib.collections.PathCollection at 0x7f2608b7d1f0>"
      ]
     },
     "execution_count": 14,
     "metadata": {},
     "output_type": "execute_result"
    },
    {
     "data": {
      "image/png": "[encoded data removed]",
      "text/plain": [
       "<Figure size 720x288 with 1 Axes>"
      ]
     },
     "metadata": {
      "needs_background": "light"
     },
     "output_type": "display_data"
    }
   ],
   "source": [
    "fig,ax=plt.subplots(figsize=(10,4))\n",
    "plt.scatter(x,y)"
   ]
  },
  {
   "cell_type": "markdown",
   "id": "3dd445b2",
   "metadata": {},
   "source": [
    "# Linear Regression"
   ]
  },
  {
   "cell_type": "code",
   "execution_count": 15,
   "id": "5f4030d8",
   "metadata": {},
   "outputs": [],
   "source": [
    "from sklearn.linear_model import LinearRegression "
   ]
  },
  {
   "cell_type": "code",
   "execution_count": 16,
   "id": "c645610f",
   "metadata": {},
   "outputs": [],
   "source": [
    "house=datasets.load_boston()"
   ]
  },
  {
   "cell_type": "code",
   "execution_count": 17,
   "id": "451b44e0",
   "metadata": {},
   "outputs": [
    {
     "data": {
      "text/plain": [
       "array(['CRIM', 'ZN', 'INDUS', 'CHAS', 'NOX', 'RM', 'AGE', 'DIS', 'RAD',\n",
       "       'TAX', 'PTRATIO', 'B', 'LSTAT'], dtype='<U7')"
      ]
     },
     "execution_count": 17,
     "metadata": {},
     "output_type": "execute_result"
    }
   ],
   "source": [
    "house.feature_names"
   ]
  },
  {
   "cell_type": "code",
   "execution_count": 18,
   "id": "742d9b4e",
   "metadata": {},
   "outputs": [
    {
     "data": {
      "text/plain": [
       "(506,)"
      ]
     },
     "execution_count": 18,
     "metadata": {},
     "output_type": "execute_result"
    }
   ],
   "source": [
    "house.target.shape"
   ]
  },
  {
   "cell_type": "code",
   "execution_count": 19,
   "id": "3c5b6c97",
   "metadata": {},
   "outputs": [
    {
     "data": {
      "text/plain": [
       "(506, 13)"
      ]
     },
     "execution_count": 19,
     "metadata": {},
     "output_type": "execute_result"
    }
   ],
   "source": [
    "house.data.shape"
   ]
  },
  {
   "cell_type": "code",
   "execution_count": 20,
   "id": "2c2cabbe",
   "metadata": {},
   "outputs": [
    {
     "data": {
      "text/plain": [
       "sklearn.utils.Bunch"
      ]
     },
     "execution_count": 20,
     "metadata": {},
     "output_type": "execute_result"
    }
   ],
   "source": [
    "type(house)"
   ]
  },
  {
   "cell_type": "code",
   "execution_count": 21,
   "id": "e52ddad8",
   "metadata": {},
   "outputs": [],
   "source": [
    "from sklearn.model_selection import train_test_split"
   ]
  },
  {
   "cell_type": "code",
   "execution_count": 22,
   "id": "53a3f633",
   "metadata": {},
   "outputs": [],
   "source": [
    "x=house.data\n",
    "y=house.target"
   ]
  },
  {
   "cell_type": "code",
   "execution_count": 23,
   "id": "326deb07",
   "metadata": {},
   "outputs": [],
   "source": [
    "x_train,x_test,y_train,y_test=train_test_split(x,y,test_size=0.2,random_state=50)"
   ]
  },
  {
   "cell_type": "code",
   "execution_count": 24,
   "id": "2714036c",
   "metadata": {},
   "outputs": [
    {
     "data": {
      "text/plain": [
       "(404, 13)"
      ]
     },
     "execution_count": 24,
     "metadata": {},
     "output_type": "execute_result"
    }
   ],
   "source": [
    "x_train.shape"
   ]
  },
  {
   "cell_type": "code",
   "execution_count": 25,
   "id": "6c8e3419",
   "metadata": {},
   "outputs": [
    {
     "data": {
      "text/plain": [
       "(404,)"
      ]
     },
     "execution_count": 25,
     "metadata": {},
     "output_type": "execute_result"
    }
   ],
   "source": [
    "y_train.shape"
   ]
  },
  {
   "cell_type": "code",
   "execution_count": 26,
   "id": "7c497044",
   "metadata": {},
   "outputs": [],
   "source": [
    "lr=LinearRegression(fit_intercept=True,n_jobs=1)"
   ]
  },
  {
   "cell_type": "code",
   "execution_count": 27,
   "id": "774fe66c",
   "metadata": {},
   "outputs": [
    {
     "data": {
      "text/plain": [
       "LinearRegression(n_jobs=1)"
      ]
     },
     "execution_count": 27,
     "metadata": {},
     "output_type": "execute_result"
    }
   ],
   "source": [
    "lr.fit(x_train,y_train)"
   ]
  },
  {
   "cell_type": "code",
   "execution_count": 28,
   "id": "744e64b9",
   "metadata": {},
   "outputs": [],
   "source": [
    "pred=lr.predict(x_test)"
   ]
  },
  {
   "cell_type": "code",
   "execution_count": 29,
   "id": "6aa943cc",
   "metadata": {},
   "outputs": [
    {
     "data": {
      "text/plain": [
       "array([12.27194543, 25.68626233, 19.57395825, 29.69673515, 21.78378986])"
      ]
     },
     "execution_count": 29,
     "metadata": {},
     "output_type": "execute_result"
    }
   ],
   "source": [
    "pred[:5]"
   ]
  },
  {
   "cell_type": "code",
   "execution_count": 30,
   "id": "7b912dec",
   "metadata": {},
   "outputs": [
    {
     "data": {
      "text/plain": [
       "array([27.5, 21.6, 17.7, 24.3, 22.2])"
      ]
     },
     "execution_count": 30,
     "metadata": {},
     "output_type": "execute_result"
    }
   ],
   "source": [
    "y_test[:5]"
   ]
  },
  {
   "cell_type": "code",
   "execution_count": 31,
   "id": "f063207b",
   "metadata": {},
   "outputs": [],
   "source": [
    "from sklearn import metrics"
   ]
  },
  {
   "cell_type": "code",
   "execution_count": 32,
   "id": "a0625306",
   "metadata": {},
   "outputs": [],
   "source": [
    "mse=metrics.mean_squared_error(y_test,pred)"
   ]
  },
  {
   "cell_type": "code",
   "execution_count": 33,
   "id": "b0ba8e37",
   "metadata": {},
   "outputs": [
    {
     "data": {
      "text/plain": [
       "26.345537363313177"
      ]
     },
     "execution_count": 33,
     "metadata": {},
     "output_type": "execute_result"
    }
   ],
   "source": [
    "mse"
   ]
  },
  {
   "cell_type": "code",
   "execution_count": 34,
   "id": "a942a2f3",
   "metadata": {},
   "outputs": [
    {
     "data": {
      "text/plain": [
       "0.6573857941343249"
      ]
     },
     "execution_count": 34,
     "metadata": {},
     "output_type": "execute_result"
    }
   ],
   "source": [
    "metrics.r2_score(y_test,pred)"
   ]
  },
  {
   "cell_type": "code",
   "execution_count": 35,
   "id": "1418c7bc",
   "metadata": {},
   "outputs": [],
   "source": [
    "x,y=datasets.make_regression(n_samples=500,n_features=5,n_targets=1)"
   ]
  },
  {
   "cell_type": "code",
   "execution_count": 36,
   "id": "ef540213",
   "metadata": {},
   "outputs": [
    {
     "name": "stdout",
     "output_type": "stream",
     "text": [
      "x.shape: (500, 5)\n",
      "y.shape: (500,)\n"
     ]
    }
   ],
   "source": [
    "print(\"x.shape: {}\".format(x.shape))\n",
    "print(\"y.shape: {}\".format(y.shape))"
   ]
  },
  {
   "cell_type": "code",
   "execution_count": 37,
   "id": "bc83a331",
   "metadata": {},
   "outputs": [
    {
     "data": {
      "text/plain": [
       "numpy.ndarray"
      ]
     },
     "execution_count": 37,
     "metadata": {},
     "output_type": "execute_result"
    }
   ],
   "source": [
    "type(y)"
   ]
  },
  {
   "cell_type": "code",
   "execution_count": 38,
   "id": "6f254675",
   "metadata": {},
   "outputs": [
    {
     "data": {
      "text/plain": [
       "array([ -51.37938106,  -10.5926324 ,   70.23104262,  133.47458893,\n",
       "         -4.388712  ,  219.5628381 , -121.21840024,  -23.20181247,\n",
       "        167.62317448,   53.68279752,  -61.69103324, -164.42139349,\n",
       "        145.62041203,  201.75550668,   32.34064003,  -38.08401861,\n",
       "       -138.65651939,  -89.13080527,   40.2581929 , -274.59305019,\n",
       "        -37.33327272,    7.0378089 ,   97.02130594, -275.72693116,\n",
       "        205.82744619, -121.95498502, -117.10159794,  310.28304793,\n",
       "        -59.85044521,  -40.98267113,  -27.24464994,  -44.8023343 ,\n",
       "       -260.49067037,   39.53092199,   76.22994892,  134.42884867,\n",
       "         30.39405397,   94.42748318,  113.43650845,  -78.36604577,\n",
       "         16.6950339 , -237.26791472, -178.91466459, -145.70061307,\n",
       "        -15.01509474, -265.96049207, -140.37252788, -112.85504312,\n",
       "         16.96453171,  -53.65065081, -136.30348759,   93.66721763,\n",
       "         74.8172794 ,  149.89405431,  -84.74651142,   -0.41070081,\n",
       "       -106.18909614,    9.1537798 ,  -66.63657209,    2.01297137,\n",
       "       -182.96335069,   54.30260347, -139.43770021,   30.59913912,\n",
       "       -192.6016762 ,  -74.33749777,   19.72499464,   93.567153  ,\n",
       "       -161.28693278,  -19.11068856,  130.7782578 ,   20.42448998,\n",
       "        -71.52814452,   98.2081775 ,    3.4606031 ,   19.60275223,\n",
       "       -238.88673751, -184.69734043,  158.19430032,   95.30814052,\n",
       "        281.94849956,  100.29053486,   57.177224  , -176.24085642,\n",
       "        183.14439297,   50.91374222,  -43.22659769,  -81.1544345 ,\n",
       "       -282.53553257,  229.12208892,  117.86564576,  167.23860045,\n",
       "       -152.45201516,  208.255799  ,   58.51844186, -219.56894598,\n",
       "         62.55529515,  217.96095313,   55.91069443, -299.927088  ,\n",
       "        154.98295568,   16.55562674,   53.92928343, -101.84694103,\n",
       "        204.23577679,  255.90961884,  238.47180924, -158.8159696 ,\n",
       "        167.2931373 ,  181.65954963,  137.23633045,  -96.9083944 ,\n",
       "        -95.13267885, -167.78150105,   30.60373645,   -2.7355805 ,\n",
       "         -4.62812302,  101.90555062, -316.47050643,  -63.31884446,\n",
       "         74.22914588,   68.59265614,   22.34730245,  -13.87057839,\n",
       "          6.6923458 ,  -22.40095594,   14.16550896,  -99.27437537,\n",
       "        -56.37254833,  181.30558346,   70.01265781, -111.51279494,\n",
       "          3.3166176 ,   23.11201947,  211.0240123 ,   63.43400542,\n",
       "       -144.27714379,  176.7676601 ,  -48.48279445,  166.10988796,\n",
       "       -216.86067307,   51.08287705,  166.84146646, -122.00529163,\n",
       "        166.63806651,  186.61413224, -147.99568247,  325.90887565,\n",
       "         16.22581384, -102.57686848,  195.0096243 ,  310.10921639,\n",
       "        132.17656174,  367.44792444,   52.34588272,   73.49176208,\n",
       "       -225.95941079, -181.68930472, -123.87619339,  -19.77655556,\n",
       "         86.56988284,   28.86255   ,   35.92747364,   14.22227431,\n",
       "        129.55593933,  196.67507772,  105.11314415,   30.93359784,\n",
       "       -133.30818933,  -67.46049276,  -25.14305668,  -65.05238289,\n",
       "         54.33812495,   -6.12058495,  -99.58708272,   23.83572915,\n",
       "        -77.56865758, -187.72288643, -128.9349709 ,   45.88123122,\n",
       "        -82.5426118 , -116.6023593 ,    5.31682073,  -87.07648139,\n",
       "        -11.41692012,  -62.03166531,   -1.61502354,  183.16759344,\n",
       "        -33.83194493, -235.89835323,  -90.97104045,  -51.94827547,\n",
       "        -14.68189111,   37.7735038 ,  230.16326865,  -92.14656536,\n",
       "       -186.33168221, -276.10471331,    4.1649616 ,  -54.18379976,\n",
       "        208.23097933,   31.09148832,  -50.81541453, -175.61687139,\n",
       "        -29.54313978, -198.39432278,  136.42105104,  303.66807661,\n",
       "        217.6603636 ,   31.21876605,  -33.93597419,  -41.17268214,\n",
       "       -316.66401876,  225.76627956,   23.17364607,  -94.05694337,\n",
       "        378.24172962,   75.60419798,  211.57430704,   11.44007811,\n",
       "       -161.95454786,  106.25912966,  -31.05673148, -242.53182089,\n",
       "       -273.00039477, -281.76097853,   66.10178934,  108.64024236,\n",
       "        150.89945557,  135.58054832, -282.63576989,    1.27578641,\n",
       "         26.83520632,  112.44221544, -201.53149064, -214.18594959,\n",
       "         62.68378918,   19.04216616,  149.79109343,  211.35875152,\n",
       "        159.62071518,  227.75910034,  -23.27079333,   72.4231724 ,\n",
       "        -31.10744985,   27.77304072,  208.86335725,  132.53901167,\n",
       "       -293.5495271 ,   69.80747475,  -27.47100727,  -28.44677432,\n",
       "          0.82224741,  250.07276138,   -8.40559523,  -40.27142911,\n",
       "        248.88593993,  -62.24285424, -278.76925111,    5.28073147,\n",
       "        -78.15942954,  -47.00180667,  -99.60851445,   45.10139357,\n",
       "       -282.92792839,  -59.02101006,  -70.79141307, -104.44478433,\n",
       "        -73.54539119,  142.25440686, -192.46775318,  -24.28039563,\n",
       "         57.52996472,  -70.38837105,   30.79592792,  -28.72243201,\n",
       "       -137.65162444, -219.70802076,  -42.41210697,  218.33306243,\n",
       "       -141.85924294,  -65.37385802,   23.61774188,   10.16063473,\n",
       "       -130.29978401,  -95.95879291, -248.11171468,   41.00733241,\n",
       "       -236.88372607,   73.43344198,   -8.47694041,    9.39589785,\n",
       "       -202.84825975,  100.96837092,    1.72369762,  -52.05442358,\n",
       "        -45.81380211, -149.91325351, -153.90749671, -309.33710222,\n",
       "       -335.6444429 ,  -66.04525079,   36.23885811,   25.27387974,\n",
       "        -49.10467604, -124.51582081,  -57.12011223, -208.98920386,\n",
       "       -124.93736019, -137.71443203, -135.8304621 ,  -63.79652277,\n",
       "         -8.42946251, -240.25588076,  204.49952065, -262.4078311 ,\n",
       "         72.69283588,  -32.63610959,  -49.14760511,   88.77125191,\n",
       "       -105.44806683, -202.62564468,   -3.10762117,   13.29283065,\n",
       "         22.79378101,  -96.47769194,   99.23677239,  138.68134351,\n",
       "       -249.96461665,  176.53310595,   66.60867404,  -48.64481957,\n",
       "        222.84837814,   24.28156207,  137.00234642, -156.87043114,\n",
       "         47.75460241,  -71.04569096, -264.64307999,  -87.14964875,\n",
       "        -20.93807758, -144.43561411, -212.97367449,  314.12379027,\n",
       "         -1.48978062, -241.88714913,  -34.21324422,   -4.07900772,\n",
       "       -197.20278094,  228.39856753,   -8.16468784,   39.55714579,\n",
       "        162.47825522, -125.36853943,  259.72678855, -110.41512898,\n",
       "        104.95681127,   50.15966081,  318.75122246,  -33.03771279,\n",
       "        -61.81688186,  -66.62645108,   32.25024682,   49.67768569,\n",
       "        -30.78075654,  170.1495079 ,   96.57242556, -305.41282668,\n",
       "       -120.14822628,  182.39387078,   69.91482366,  -75.07757963,\n",
       "        -61.4149748 ,  -59.99795809,  169.07922779,   -9.30639634,\n",
       "         75.63620518,  317.67953171,   17.91276819, -150.3536212 ,\n",
       "        -53.96169747,  247.17259062,   91.90093567,   82.02680603,\n",
       "        -22.24092309,  353.9434265 ,   20.80285051, -106.42412626,\n",
       "         85.75270032,   23.63912723,   -5.53092157,    2.69154193,\n",
       "       -168.0012392 ,  -22.15688266,  107.12784572,  -50.65049447,\n",
       "         18.59104202,   10.21139651,  -96.9932887 , -156.86147754,\n",
       "        -18.97169656, -146.12423602, -100.36160832,    0.57055573,\n",
       "        -31.22799649, -128.5240778 ,  -69.0965174 ,   16.06058458,\n",
       "         47.46847265, -237.93977561,  -35.7165057 , -194.43518246,\n",
       "         -8.69596416,  264.57071397,  -23.82350122,   14.25346187,\n",
       "       -115.68728967,   79.43508918, -180.85808981,   10.34064142,\n",
       "        208.58957264,   83.94078585,   36.935576  ,  102.88091873,\n",
       "       -129.31027592,   94.13858329,  -52.13398051,  239.40848945,\n",
       "        134.96156109,   48.96779736, -125.86431948,   98.44124216,\n",
       "         53.60088507,   65.42368715,  -78.58663091,  -49.7173171 ,\n",
       "       -188.58572542,  124.41797539, -283.88689943,  271.9312231 ,\n",
       "        101.92645541, -199.38667454,  -54.63577656,  131.36679893,\n",
       "       -129.08097013,   31.15472806, -140.79329165, -217.12865283,\n",
       "        -53.17948498,  129.7818852 ,   69.15473165,   17.260409  ,\n",
       "         45.76879088,   22.57253316, -189.61935237,  105.64400977,\n",
       "        268.35641517,  -40.46781014,   56.07062949,   78.39017252,\n",
       "       -376.84242711,  -49.5722296 ,   80.35380433,  -14.66637185,\n",
       "         57.30672937,  123.0775919 ,  183.81248288,  124.77541739,\n",
       "          2.99116767,  144.16222085,  -16.98350042, -107.44017969,\n",
       "        -58.56502649,  406.65484344,  -60.11100726,   96.48572942,\n",
       "        -10.29151761, -235.40841168, -172.87127499,  131.26266103,\n",
       "        153.67133499,  291.54226623,  106.01615914,   59.76409864,\n",
       "         84.75741661,  117.20630065,  -35.51928047,  128.81150402,\n",
       "         24.08195046,   85.14195165,   -6.93208675,  -69.8820874 ,\n",
       "        -54.08737781,  160.5630443 ,    5.20583262,  -74.84273811,\n",
       "        -83.15078436,  144.45578283,  -20.384136  ,   56.46127492])"
      ]
     },
     "execution_count": 38,
     "metadata": {},
     "output_type": "execute_result"
    }
   ],
   "source": [
    "y"
   ]
  },
  {
   "cell_type": "code",
   "execution_count": 39,
   "id": "0acbdaeb",
   "metadata": {},
   "outputs": [
    {
     "data": {
      "text/plain": [
       "array([ 1.88968575, -0.63544433,  0.66646926,  0.34670591, -0.02827568])"
      ]
     },
     "execution_count": 39,
     "metadata": {},
     "output_type": "execute_result"
    }
   ],
   "source": [
    "x[5]"
   ]
  },
  {
   "cell_type": "code",
   "execution_count": 40,
   "id": "5bc27e15",
   "metadata": {},
   "outputs": [
    {
     "data": {
      "text/plain": [
       "array([-51.37938106, -10.5926324 ,  70.23104262, 133.47458893,\n",
       "        -4.388712  ])"
      ]
     },
     "execution_count": 40,
     "metadata": {},
     "output_type": "execute_result"
    }
   ],
   "source": [
    "y[:5]"
   ]
  },
  {
   "cell_type": "code",
   "execution_count": 41,
   "id": "61d66584",
   "metadata": {},
   "outputs": [],
   "source": [
    "lr=LinearRegression()"
   ]
  },
  {
   "cell_type": "code",
   "execution_count": 42,
   "id": "c9c432b1",
   "metadata": {},
   "outputs": [],
   "source": [
    "x_train,x_test,y_train,y_test=train_test_split(x,y,test_size=.2)"
   ]
  },
  {
   "cell_type": "code",
   "execution_count": 43,
   "id": "c88d9d53",
   "metadata": {},
   "outputs": [
    {
     "data": {
      "text/plain": [
       "LinearRegression()"
      ]
     },
     "execution_count": 43,
     "metadata": {},
     "output_type": "execute_result"
    }
   ],
   "source": [
    "lr.fit(x_train,y_train)"
   ]
  },
  {
   "cell_type": "code",
   "execution_count": 44,
   "id": "85424aaf",
   "metadata": {},
   "outputs": [],
   "source": [
    "pred=lr.predict(x_test)"
   ]
  },
  {
   "cell_type": "code",
   "execution_count": 45,
   "id": "98ec6ed7",
   "metadata": {},
   "outputs": [
    {
     "data": {
      "text/plain": [
       "array([ 19.72499464, -27.24464994, 106.01615914, 259.72678855,\n",
       "       105.11314415])"
      ]
     },
     "execution_count": 45,
     "metadata": {},
     "output_type": "execute_result"
    }
   ],
   "source": [
    "pred[:5]"
   ]
  },
  {
   "cell_type": "code",
   "execution_count": 46,
   "id": "eb440034",
   "metadata": {},
   "outputs": [
    {
     "data": {
      "text/plain": [
       "array([-51.37938106, -10.5926324 ,  70.23104262, 133.47458893,\n",
       "        -4.388712  ])"
      ]
     },
     "execution_count": 46,
     "metadata": {},
     "output_type": "execute_result"
    }
   ],
   "source": [
    "y[:5]"
   ]
  },
  {
   "cell_type": "code",
   "execution_count": 47,
   "id": "2e95dcaa",
   "metadata": {},
   "outputs": [],
   "source": [
    "mse=metrics.mean_squared_error(y_test,pred)"
   ]
  },
  {
   "cell_type": "code",
   "execution_count": 48,
   "id": "f1fad696",
   "metadata": {},
   "outputs": [
    {
     "data": {
      "text/plain": [
       "6.201166550613167e-27"
      ]
     },
     "execution_count": 48,
     "metadata": {},
     "output_type": "execute_result"
    }
   ],
   "source": [
    "mse"
   ]
  },
  {
   "cell_type": "code",
   "execution_count": 49,
   "id": "7f02631d",
   "metadata": {},
   "outputs": [],
   "source": [
    "score=metrics.r2_score(y_test,pred)"
   ]
  },
  {
   "cell_type": "code",
   "execution_count": 50,
   "id": "663c497e",
   "metadata": {},
   "outputs": [
    {
     "data": {
      "text/plain": [
       "1.0"
      ]
     },
     "execution_count": 50,
     "metadata": {},
     "output_type": "execute_result"
    }
   ],
   "source": [
    "score"
   ]
  },
  {
   "cell_type": "code",
   "execution_count": 51,
   "id": "dbb174de",
   "metadata": {},
   "outputs": [
    {
     "data": {
      "text/plain": [
       "1.0"
      ]
     },
     "execution_count": 51,
     "metadata": {},
     "output_type": "execute_result"
    }
   ],
   "source": [
    "metrics.r2_score(y_test,pred)"
   ]
  },
  {
   "cell_type": "code",
   "execution_count": 52,
   "id": "9380aa7d",
   "metadata": {},
   "outputs": [
    {
     "data": {
      "text/plain": [
       "(500, 5)"
      ]
     },
     "execution_count": 52,
     "metadata": {},
     "output_type": "execute_result"
    }
   ],
   "source": [
    "x.shape"
   ]
  },
  {
   "cell_type": "code",
   "execution_count": 53,
   "id": "a43e79d7",
   "metadata": {},
   "outputs": [
    {
     "data": {
      "text/plain": [
       "array([ 0.79751373, -0.56680626, -0.78613093,  0.27192539, -0.0787904 ])"
      ]
     },
     "execution_count": 53,
     "metadata": {},
     "output_type": "execute_result"
    }
   ],
   "source": [
    "x[1]"
   ]
  },
  {
   "cell_type": "code",
   "execution_count": 54,
   "id": "a7b46e07",
   "metadata": {},
   "outputs": [
    {
     "data": {
      "text/plain": [
       "array([-138.51801765])"
      ]
     },
     "execution_count": 54,
     "metadata": {},
     "output_type": "execute_result"
    }
   ],
   "source": [
    "lr.predict([[-1.2545,-0.2546,0.278565,-1.24824,-0.55855]])"
   ]
  },
  {
   "cell_type": "code",
   "execution_count": 55,
   "id": "192ee468",
   "metadata": {},
   "outputs": [],
   "source": [
    "x,y=datasets.make_regression(n_samples=100,n_features=1,n_targets=1)\n",
    "# simple lr -1 independant var 1-dependant var"
   ]
  },
  {
   "cell_type": "code",
   "execution_count": 56,
   "id": "5f292a48",
   "metadata": {},
   "outputs": [],
   "source": [
    "x_train,x_test,y_train,y_test=train_test_split(x,y,test_size=.3,random_state=2)"
   ]
  },
  {
   "cell_type": "code",
   "execution_count": 57,
   "id": "6341c8e8",
   "metadata": {},
   "outputs": [
    {
     "data": {
      "text/plain": [
       "array([[ 1.99792851e+00],\n",
       "       [-5.03196366e-01],\n",
       "       [ 5.05807747e-01],\n",
       "       [-1.22918215e-01],\n",
       "       [ 1.47848794e-03],\n",
       "       [-9.17219539e-02],\n",
       "       [-6.84025719e-01],\n",
       "       [ 9.04722194e-01],\n",
       "       [ 3.49241093e-01],\n",
       "       [-1.18596957e-01],\n",
       "       [-7.07297702e-01],\n",
       "       [-4.47550004e-02],\n",
       "       [ 2.50304775e-01]])"
      ]
     },
     "execution_count": 57,
     "metadata": {},
     "output_type": "execute_result"
    }
   ],
   "source": [
    "x_train[:25:2]"
   ]
  },
  {
   "cell_type": "code",
   "execution_count": 58,
   "id": "8118e565",
   "metadata": {},
   "outputs": [
    {
     "data": {
      "text/plain": [
       "array([ 7.53015732e+01, -1.89653823e+01,  1.90638048e+01, -4.63276587e+00,\n",
       "        5.57239499e-02, -3.45698427e+00, -2.57808087e+01,  3.40988200e+01,\n",
       "        1.31628352e+01, -4.46989840e+00])"
      ]
     },
     "execution_count": 58,
     "metadata": {},
     "output_type": "execute_result"
    }
   ],
   "source": [
    "y_train[:20:2]"
   ]
  },
  {
   "cell_type": "code",
   "execution_count": 59,
   "id": "f74560a2",
   "metadata": {},
   "outputs": [
    {
     "data": {
      "text/plain": [
       "LinearRegression()"
      ]
     },
     "execution_count": 59,
     "metadata": {},
     "output_type": "execute_result"
    }
   ],
   "source": [
    "lr.fit(x_train,y_train)"
   ]
  },
  {
   "cell_type": "code",
   "execution_count": 60,
   "id": "3d3fa728",
   "metadata": {},
   "outputs": [],
   "source": [
    "y_pred=lr.predict(x_test)"
   ]
  },
  {
   "cell_type": "code",
   "execution_count": 61,
   "id": "2fc8e066",
   "metadata": {},
   "outputs": [],
   "source": [
    "mse=metrics.mean_squared_error(y_test,y_pred)"
   ]
  },
  {
   "cell_type": "code",
   "execution_count": 62,
   "id": "e70e82c1",
   "metadata": {},
   "outputs": [
    {
     "data": {
      "text/plain": [
       "3.8952164236825174e-29"
      ]
     },
     "execution_count": 62,
     "metadata": {},
     "output_type": "execute_result"
    }
   ],
   "source": [
    "mse"
   ]
  },
  {
   "cell_type": "code",
   "execution_count": 63,
   "id": "599e224e",
   "metadata": {},
   "outputs": [],
   "source": [
    "score=metrics.r2_score(y_test,y_pred)"
   ]
  },
  {
   "cell_type": "code",
   "execution_count": 64,
   "id": "82b331f4",
   "metadata": {
    "scrolled": true
   },
   "outputs": [
    {
     "data": {
      "text/plain": [
       "1.0"
      ]
     },
     "execution_count": 64,
     "metadata": {},
     "output_type": "execute_result"
    }
   ],
   "source": [
    "score"
   ]
  },
  {
   "cell_type": "markdown",
   "id": "aaee8228",
   "metadata": {},
   "source": [
    "# Ridge Regression"
   ]
  },
  {
   "cell_type": "code",
   "execution_count": 65,
   "id": "35c69c9f",
   "metadata": {},
   "outputs": [],
   "source": [
    "from sklearn.linear_model import RidgeCV\n",
    "# also Ridge ---->for regression"
   ]
  },
  {
   "cell_type": "code",
   "execution_count": 66,
   "id": "1a2fb96c",
   "metadata": {},
   "outputs": [],
   "source": [
    "reg=RidgeCV(cv=5)"
   ]
  },
  {
   "cell_type": "code",
   "execution_count": 67,
   "id": "7a59fdfd",
   "metadata": {},
   "outputs": [
    {
     "data": {
      "text/plain": [
       "RidgeCV(alphas=array([ 0.1,  1. , 10. ]), cv=5)"
      ]
     },
     "execution_count": 67,
     "metadata": {},
     "output_type": "execute_result"
    }
   ],
   "source": [
    "reg.fit(x_train,y_train)"
   ]
  },
  {
   "cell_type": "code",
   "execution_count": 68,
   "id": "1d2105b9",
   "metadata": {},
   "outputs": [],
   "source": [
    "predict=reg.predict(x_test)"
   ]
  },
  {
   "cell_type": "code",
   "execution_count": 69,
   "id": "d7ef93ce",
   "metadata": {},
   "outputs": [
    {
     "data": {
      "text/plain": [
       "0.9999968537341705"
      ]
     },
     "execution_count": 69,
     "metadata": {},
     "output_type": "execute_result"
    }
   ],
   "source": [
    "metrics.r2_score(y_test,predict)"
   ]
  },
  {
   "cell_type": "code",
   "execution_count": 70,
   "id": "5d8fe5b1",
   "metadata": {},
   "outputs": [
    {
     "data": {
      "text/plain": [
       "0.002859841336436089"
      ]
     },
     "execution_count": 70,
     "metadata": {},
     "output_type": "execute_result"
    }
   ],
   "source": [
    "metrics.mean_squared_error(y_test,predict)"
   ]
  },
  {
   "cell_type": "markdown",
   "id": "1bf053f0",
   "metadata": {},
   "source": [
    "# Ridge Classification"
   ]
  },
  {
   "cell_type": "code",
   "execution_count": 71,
   "id": "345bb155",
   "metadata": {},
   "outputs": [],
   "source": [
    "from sklearn.linear_model import RidgeClassifier\n",
    "# also RidgeClassifierCV for classification\n",
    "# CV -inbuild cross-validation"
   ]
  },
  {
   "cell_type": "code",
   "execution_count": 72,
   "id": "96a323c4",
   "metadata": {},
   "outputs": [],
   "source": [
    "rc=RidgeClassifier()"
   ]
  },
  {
   "cell_type": "code",
   "execution_count": 73,
   "id": "54b17594",
   "metadata": {},
   "outputs": [],
   "source": [
    "x,y=datasets.make_classification()"
   ]
  },
  {
   "cell_type": "code",
   "execution_count": 74,
   "id": "5caa4972",
   "metadata": {},
   "outputs": [
    {
     "data": {
      "text/plain": [
       "(100, 20)"
      ]
     },
     "execution_count": 74,
     "metadata": {},
     "output_type": "execute_result"
    }
   ],
   "source": [
    "x.shape\n"
   ]
  },
  {
   "cell_type": "code",
   "execution_count": 75,
   "id": "d49cabb2",
   "metadata": {},
   "outputs": [
    {
     "data": {
      "text/plain": [
       "(100,)"
      ]
     },
     "execution_count": 75,
     "metadata": {},
     "output_type": "execute_result"
    }
   ],
   "source": [
    "y.shape"
   ]
  },
  {
   "cell_type": "code",
   "execution_count": 76,
   "id": "c761588b",
   "metadata": {},
   "outputs": [
    {
     "data": {
      "text/plain": [
       "numpy.ndarray"
      ]
     },
     "execution_count": 76,
     "metadata": {},
     "output_type": "execute_result"
    }
   ],
   "source": [
    "type(y)"
   ]
  },
  {
   "cell_type": "code",
   "execution_count": 77,
   "id": "b62f1b81",
   "metadata": {},
   "outputs": [],
   "source": [
    "x_train,x_test,y_train,y_test=train_test_split(x,y,train_size=0.8,random_state=2)"
   ]
  },
  {
   "cell_type": "code",
   "execution_count": 78,
   "id": "67849ffa",
   "metadata": {},
   "outputs": [
    {
     "name": "stdout",
     "output_type": "stream",
     "text": [
      "shape: (80, 20)\n",
      "shape: (20, 20)\n",
      "shape: (80,)\n",
      "shape: (20,)\n"
     ]
    }
   ],
   "source": [
    "pr=[x_train,x_test,y_train,y_test]\n",
    "for i in pr:\n",
    "    print(\"shape: {}\".format(i.shape))"
   ]
  },
  {
   "cell_type": "code",
   "execution_count": 79,
   "id": "bbd5004e",
   "metadata": {},
   "outputs": [
    {
     "data": {
      "text/plain": [
       "RidgeClassifier()"
      ]
     },
     "execution_count": 79,
     "metadata": {},
     "output_type": "execute_result"
    }
   ],
   "source": [
    "rc.fit(x_train,y_train)"
   ]
  },
  {
   "cell_type": "code",
   "execution_count": 80,
   "id": "e237d2e1",
   "metadata": {},
   "outputs": [
    {
     "data": {
      "text/plain": [
       "array([[ 0.01886221,  0.03179929,  0.10395541, -0.04099099, -0.03904064,\n",
       "        -0.06982822,  0.328259  ,  0.04288681,  0.15451349,  0.03482162,\n",
       "        -0.27446711, -0.07658027, -0.13655237, -0.0069784 , -0.0408157 ,\n",
       "        -0.06917809,  0.04607385,  0.22217354,  0.05040121,  0.09970734]])"
      ]
     },
     "execution_count": 80,
     "metadata": {},
     "output_type": "execute_result"
    }
   ],
   "source": [
    "rc.coef_"
   ]
  },
  {
   "cell_type": "code",
   "execution_count": 81,
   "id": "6ecbd161",
   "metadata": {},
   "outputs": [
    {
     "data": {
      "text/plain": [
       "array([0.02859172])"
      ]
     },
     "execution_count": 81,
     "metadata": {},
     "output_type": "execute_result"
    }
   ],
   "source": [
    "rc.intercept_"
   ]
  },
  {
   "cell_type": "code",
   "execution_count": 82,
   "id": "7a27996f",
   "metadata": {},
   "outputs": [],
   "source": [
    "pred=rc.predict(x_test)"
   ]
  },
  {
   "cell_type": "code",
   "execution_count": 83,
   "id": "4ed16d84",
   "metadata": {},
   "outputs": [],
   "source": [
    "mse=metrics.mean_squared_error(y_test,pred)"
   ]
  },
  {
   "cell_type": "code",
   "execution_count": 84,
   "id": "b37ac26a",
   "metadata": {},
   "outputs": [
    {
     "data": {
      "text/plain": [
       "0.2"
      ]
     },
     "execution_count": 84,
     "metadata": {},
     "output_type": "execute_result"
    }
   ],
   "source": [
    "mse"
   ]
  },
  {
   "cell_type": "code",
   "execution_count": 85,
   "id": "7d4d6584",
   "metadata": {},
   "outputs": [],
   "source": [
    "score=metrics.r2_score(y_test,pred)"
   ]
  },
  {
   "cell_type": "code",
   "execution_count": 86,
   "id": "87501acb",
   "metadata": {},
   "outputs": [
    {
     "data": {
      "text/plain": [
       "0.19191919191919182"
      ]
     },
     "execution_count": 86,
     "metadata": {},
     "output_type": "execute_result"
    }
   ],
   "source": [
    "score"
   ]
  },
  {
   "cell_type": "code",
   "execution_count": 87,
   "id": "c54d3681",
   "metadata": {},
   "outputs": [
    {
     "data": {
      "text/plain": [
       "array([-0.76541699,  2.37755049, -1.24444352,  0.74243821, -0.57658795,\n",
       "        0.96934973,  0.88045567,  0.68747283,  1.4493306 ,  0.73823851,\n",
       "       -0.61725712,  1.65820445,  2.43007225,  0.24015633, -0.7505996 ,\n",
       "        1.11714639, -0.20329694,  0.98076178, -0.01891367,  0.42340875])"
      ]
     },
     "execution_count": 87,
     "metadata": {},
     "output_type": "execute_result"
    }
   ],
   "source": [
    "x[34]"
   ]
  },
  {
   "cell_type": "code",
   "execution_count": 88,
   "id": "6373ce57",
   "metadata": {},
   "outputs": [
    {
     "data": {
      "text/plain": [
       "1"
      ]
     },
     "execution_count": 88,
     "metadata": {},
     "output_type": "execute_result"
    }
   ],
   "source": [
    "y[34]"
   ]
  },
  {
   "cell_type": "code",
   "execution_count": 89,
   "id": "adea2046",
   "metadata": {},
   "outputs": [
    {
     "data": {
      "text/plain": [
       "array([0])"
      ]
     },
     "execution_count": 89,
     "metadata": {},
     "output_type": "execute_result"
    }
   ],
   "source": [
    "rc.predict([[-0.68898316, -0.89437329,  1.34480983,  2.15876248,  0.38104977,\n",
    "       -1.35942591, -0.72549937,  0.20917558, -0.75172485, -0.50968925,\n",
    "        1.33169033, -1.51391444, -0.03601536,  1.00750466, -2.09949805,\n",
    "        0.4064495 , -0.09973969,  0.20173387,  0.61689074, -0.87378437]])"
   ]
  },
  {
   "cell_type": "code",
   "execution_count": 90,
   "id": "35324747",
   "metadata": {},
   "outputs": [],
   "source": [
    "mae=metrics.mean_absolute_error(y_test,pred)"
   ]
  },
  {
   "cell_type": "code",
   "execution_count": 91,
   "id": "3b004957",
   "metadata": {},
   "outputs": [
    {
     "data": {
      "text/plain": [
       "0.2"
      ]
     },
     "execution_count": 91,
     "metadata": {},
     "output_type": "execute_result"
    }
   ],
   "source": [
    "mae"
   ]
  },
  {
   "cell_type": "code",
   "execution_count": 92,
   "id": "eec09fb2",
   "metadata": {},
   "outputs": [
    {
     "data": {
      "text/plain": [
       "0.19191919191919182"
      ]
     },
     "execution_count": 92,
     "metadata": {},
     "output_type": "execute_result"
    }
   ],
   "source": [
    "metrics.r2_score(y_test,pred)"
   ]
  },
  {
   "cell_type": "markdown",
   "id": "d9acde13",
   "metadata": {},
   "source": [
    "# Logistic Regression"
   ]
  },
  {
   "cell_type": "code",
   "execution_count": 210,
   "id": "8bf88087",
   "metadata": {},
   "outputs": [],
   "source": [
    "df=pd.DataFrame({\"Gender\":['Male','Male','female','female','male' ,'male' ,'female','female','male','female','female','female','male','male'],\n",
    "                'age':[19,35,26,27,19,27,27,32,25,35,26,26,20,32],'salary':[19000,20000,43000,57000,76000,58000,84000,150000,33000,65000,80000,52000,86000,180000],\n",
    "                 'purchase':[0,0,0,0,0,0,0,1,0,0,0,0,0,0]})"
   ]
  },
  {
   "cell_type": "code",
   "execution_count": 211,
   "id": "0c9f4577",
   "metadata": {},
   "outputs": [
    {
     "data": {
      "text/plain": [
       "(14, 4)"
      ]
     },
     "execution_count": 211,
     "metadata": {},
     "output_type": "execute_result"
    }
   ],
   "source": [
    "df.shape"
   ]
  },
  {
   "cell_type": "code",
   "execution_count": 212,
   "id": "ca530fe4",
   "metadata": {},
   "outputs": [
    {
     "data": {
      "text/html": [
       "<div>\n",
       "<style scoped>\n",
       "    .dataframe tbody tr th:only-of-type {\n",
       "        vertical-align: middle;\n",
       "    }\n",
       "\n",
       "    .dataframe tbody tr th {\n",
       "        vertical-align: top;\n",
       "    }\n",
       "\n",
       "    .dataframe thead th {\n",
       "        text-align: right;\n",
       "    }\n",
       "</style>\n",
       "<table border=\"1\" class=\"dataframe\">\n",
       "  <thead>\n",
       "    <tr style=\"text-align: right;\">\n",
       "      <th></th>\n",
       "      <th>Gender</th>\n",
       "      <th>age</th>\n",
       "      <th>salary</th>\n",
       "      <th>purchase</th>\n",
       "    </tr>\n",
       "  </thead>\n",
       "  <tbody>\n",
       "    <tr>\n",
       "      <th>0</th>\n",
       "      <td>Male</td>\n",
       "      <td>19</td>\n",
       "      <td>19000</td>\n",
       "      <td>0</td>\n",
       "    </tr>\n",
       "    <tr>\n",
       "      <th>1</th>\n",
       "      <td>Male</td>\n",
       "      <td>35</td>\n",
       "      <td>20000</td>\n",
       "      <td>0</td>\n",
       "    </tr>\n",
       "    <tr>\n",
       "      <th>2</th>\n",
       "      <td>female</td>\n",
       "      <td>26</td>\n",
       "      <td>43000</td>\n",
       "      <td>0</td>\n",
       "    </tr>\n",
       "    <tr>\n",
       "      <th>3</th>\n",
       "      <td>female</td>\n",
       "      <td>27</td>\n",
       "      <td>57000</td>\n",
       "      <td>0</td>\n",
       "    </tr>\n",
       "    <tr>\n",
       "      <th>4</th>\n",
       "      <td>male</td>\n",
       "      <td>19</td>\n",
       "      <td>76000</td>\n",
       "      <td>0</td>\n",
       "    </tr>\n",
       "    <tr>\n",
       "      <th>5</th>\n",
       "      <td>male</td>\n",
       "      <td>27</td>\n",
       "      <td>58000</td>\n",
       "      <td>0</td>\n",
       "    </tr>\n",
       "    <tr>\n",
       "      <th>6</th>\n",
       "      <td>female</td>\n",
       "      <td>27</td>\n",
       "      <td>84000</td>\n",
       "      <td>0</td>\n",
       "    </tr>\n",
       "    <tr>\n",
       "      <th>7</th>\n",
       "      <td>female</td>\n",
       "      <td>32</td>\n",
       "      <td>150000</td>\n",
       "      <td>1</td>\n",
       "    </tr>\n",
       "    <tr>\n",
       "      <th>8</th>\n",
       "      <td>male</td>\n",
       "      <td>25</td>\n",
       "      <td>33000</td>\n",
       "      <td>0</td>\n",
       "    </tr>\n",
       "    <tr>\n",
       "      <th>9</th>\n",
       "      <td>female</td>\n",
       "      <td>35</td>\n",
       "      <td>65000</td>\n",
       "      <td>0</td>\n",
       "    </tr>\n",
       "    <tr>\n",
       "      <th>10</th>\n",
       "      <td>female</td>\n",
       "      <td>26</td>\n",
       "      <td>80000</td>\n",
       "      <td>0</td>\n",
       "    </tr>\n",
       "    <tr>\n",
       "      <th>11</th>\n",
       "      <td>female</td>\n",
       "      <td>26</td>\n",
       "      <td>52000</td>\n",
       "      <td>0</td>\n",
       "    </tr>\n",
       "    <tr>\n",
       "      <th>12</th>\n",
       "      <td>male</td>\n",
       "      <td>20</td>\n",
       "      <td>86000</td>\n",
       "      <td>0</td>\n",
       "    </tr>\n",
       "    <tr>\n",
       "      <th>13</th>\n",
       "      <td>male</td>\n",
       "      <td>32</td>\n",
       "      <td>180000</td>\n",
       "      <td>0</td>\n",
       "    </tr>\n",
       "  </tbody>\n",
       "</table>\n",
       "</div>"
      ],
      "text/plain": [
       "    Gender  age  salary  purchase\n",
       "0     Male   19   19000         0\n",
       "1     Male   35   20000         0\n",
       "2   female   26   43000         0\n",
       "3   female   27   57000         0\n",
       "4     male   19   76000         0\n",
       "5     male   27   58000         0\n",
       "6   female   27   84000         0\n",
       "7   female   32  150000         1\n",
       "8     male   25   33000         0\n",
       "9   female   35   65000         0\n",
       "10  female   26   80000         0\n",
       "11  female   26   52000         0\n",
       "12    male   20   86000         0\n",
       "13    male   32  180000         0"
      ]
     },
     "execution_count": 212,
     "metadata": {},
     "output_type": "execute_result"
    }
   ],
   "source": [
    "df"
   ]
  },
  {
   "cell_type": "code",
   "execution_count": 213,
   "id": "bdec91ce",
   "metadata": {},
   "outputs": [],
   "source": [
    "df=pd.get_dummies(df,columns=['Gender'],drop_first=True)"
   ]
  },
  {
   "cell_type": "code",
   "execution_count": 214,
   "id": "a25be9c9",
   "metadata": {},
   "outputs": [
    {
     "data": {
      "text/html": [
       "<div>\n",
       "<style scoped>\n",
       "    .dataframe tbody tr th:only-of-type {\n",
       "        vertical-align: middle;\n",
       "    }\n",
       "\n",
       "    .dataframe tbody tr th {\n",
       "        vertical-align: top;\n",
       "    }\n",
       "\n",
       "    .dataframe thead th {\n",
       "        text-align: right;\n",
       "    }\n",
       "</style>\n",
       "<table border=\"1\" class=\"dataframe\">\n",
       "  <thead>\n",
       "    <tr style=\"text-align: right;\">\n",
       "      <th></th>\n",
       "      <th>age</th>\n",
       "      <th>salary</th>\n",
       "      <th>purchase</th>\n",
       "      <th>Gender_female</th>\n",
       "      <th>Gender_male</th>\n",
       "    </tr>\n",
       "  </thead>\n",
       "  <tbody>\n",
       "    <tr>\n",
       "      <th>0</th>\n",
       "      <td>19</td>\n",
       "      <td>19000</td>\n",
       "      <td>0</td>\n",
       "      <td>0</td>\n",
       "      <td>0</td>\n",
       "    </tr>\n",
       "    <tr>\n",
       "      <th>1</th>\n",
       "      <td>35</td>\n",
       "      <td>20000</td>\n",
       "      <td>0</td>\n",
       "      <td>0</td>\n",
       "      <td>0</td>\n",
       "    </tr>\n",
       "    <tr>\n",
       "      <th>2</th>\n",
       "      <td>26</td>\n",
       "      <td>43000</td>\n",
       "      <td>0</td>\n",
       "      <td>1</td>\n",
       "      <td>0</td>\n",
       "    </tr>\n",
       "    <tr>\n",
       "      <th>3</th>\n",
       "      <td>27</td>\n",
       "      <td>57000</td>\n",
       "      <td>0</td>\n",
       "      <td>1</td>\n",
       "      <td>0</td>\n",
       "    </tr>\n",
       "    <tr>\n",
       "      <th>4</th>\n",
       "      <td>19</td>\n",
       "      <td>76000</td>\n",
       "      <td>0</td>\n",
       "      <td>0</td>\n",
       "      <td>1</td>\n",
       "    </tr>\n",
       "    <tr>\n",
       "      <th>5</th>\n",
       "      <td>27</td>\n",
       "      <td>58000</td>\n",
       "      <td>0</td>\n",
       "      <td>0</td>\n",
       "      <td>1</td>\n",
       "    </tr>\n",
       "    <tr>\n",
       "      <th>6</th>\n",
       "      <td>27</td>\n",
       "      <td>84000</td>\n",
       "      <td>0</td>\n",
       "      <td>1</td>\n",
       "      <td>0</td>\n",
       "    </tr>\n",
       "    <tr>\n",
       "      <th>7</th>\n",
       "      <td>32</td>\n",
       "      <td>150000</td>\n",
       "      <td>1</td>\n",
       "      <td>1</td>\n",
       "      <td>0</td>\n",
       "    </tr>\n",
       "    <tr>\n",
       "      <th>8</th>\n",
       "      <td>25</td>\n",
       "      <td>33000</td>\n",
       "      <td>0</td>\n",
       "      <td>0</td>\n",
       "      <td>1</td>\n",
       "    </tr>\n",
       "    <tr>\n",
       "      <th>9</th>\n",
       "      <td>35</td>\n",
       "      <td>65000</td>\n",
       "      <td>0</td>\n",
       "      <td>1</td>\n",
       "      <td>0</td>\n",
       "    </tr>\n",
       "    <tr>\n",
       "      <th>10</th>\n",
       "      <td>26</td>\n",
       "      <td>80000</td>\n",
       "      <td>0</td>\n",
       "      <td>1</td>\n",
       "      <td>0</td>\n",
       "    </tr>\n",
       "    <tr>\n",
       "      <th>11</th>\n",
       "      <td>26</td>\n",
       "      <td>52000</td>\n",
       "      <td>0</td>\n",
       "      <td>1</td>\n",
       "      <td>0</td>\n",
       "    </tr>\n",
       "    <tr>\n",
       "      <th>12</th>\n",
       "      <td>20</td>\n",
       "      <td>86000</td>\n",
       "      <td>0</td>\n",
       "      <td>0</td>\n",
       "      <td>1</td>\n",
       "    </tr>\n",
       "    <tr>\n",
       "      <th>13</th>\n",
       "      <td>32</td>\n",
       "      <td>180000</td>\n",
       "      <td>0</td>\n",
       "      <td>0</td>\n",
       "      <td>1</td>\n",
       "    </tr>\n",
       "  </tbody>\n",
       "</table>\n",
       "</div>"
      ],
      "text/plain": [
       "    age  salary  purchase  Gender_female  Gender_male\n",
       "0    19   19000         0              0            0\n",
       "1    35   20000         0              0            0\n",
       "2    26   43000         0              1            0\n",
       "3    27   57000         0              1            0\n",
       "4    19   76000         0              0            1\n",
       "5    27   58000         0              0            1\n",
       "6    27   84000         0              1            0\n",
       "7    32  150000         1              1            0\n",
       "8    25   33000         0              0            1\n",
       "9    35   65000         0              1            0\n",
       "10   26   80000         0              1            0\n",
       "11   26   52000         0              1            0\n",
       "12   20   86000         0              0            1\n",
       "13   32  180000         0              0            1"
      ]
     },
     "execution_count": 214,
     "metadata": {},
     "output_type": "execute_result"
    }
   ],
   "source": [
    "df"
   ]
  },
  {
   "cell_type": "code",
   "execution_count": 215,
   "id": "0a86daeb",
   "metadata": {},
   "outputs": [],
   "source": [
    "from sklearn.preprocessing import MinMaxScaler"
   ]
  },
  {
   "cell_type": "code",
   "execution_count": 216,
   "id": "91587ade",
   "metadata": {},
   "outputs": [],
   "source": [
    "scl=MinMaxScaler()"
   ]
  },
  {
   "cell_type": "code",
   "execution_count": 217,
   "id": "8a3b916b",
   "metadata": {
    "scrolled": true
   },
   "outputs": [
    {
     "data": {
      "text/html": [
       "<div>\n",
       "<style scoped>\n",
       "    .dataframe tbody tr th:only-of-type {\n",
       "        vertical-align: middle;\n",
       "    }\n",
       "\n",
       "    .dataframe tbody tr th {\n",
       "        vertical-align: top;\n",
       "    }\n",
       "\n",
       "    .dataframe thead th {\n",
       "        text-align: right;\n",
       "    }\n",
       "</style>\n",
       "<table border=\"1\" class=\"dataframe\">\n",
       "  <thead>\n",
       "    <tr style=\"text-align: right;\">\n",
       "      <th></th>\n",
       "      <th>age</th>\n",
       "      <th>salary</th>\n",
       "      <th>purchase</th>\n",
       "      <th>Gender_female</th>\n",
       "      <th>Gender_male</th>\n",
       "    </tr>\n",
       "  </thead>\n",
       "  <tbody>\n",
       "    <tr>\n",
       "      <th>0</th>\n",
       "      <td>19</td>\n",
       "      <td>19000</td>\n",
       "      <td>0</td>\n",
       "      <td>0</td>\n",
       "      <td>0</td>\n",
       "    </tr>\n",
       "    <tr>\n",
       "      <th>1</th>\n",
       "      <td>35</td>\n",
       "      <td>20000</td>\n",
       "      <td>0</td>\n",
       "      <td>0</td>\n",
       "      <td>0</td>\n",
       "    </tr>\n",
       "    <tr>\n",
       "      <th>2</th>\n",
       "      <td>26</td>\n",
       "      <td>43000</td>\n",
       "      <td>0</td>\n",
       "      <td>1</td>\n",
       "      <td>0</td>\n",
       "    </tr>\n",
       "    <tr>\n",
       "      <th>3</th>\n",
       "      <td>27</td>\n",
       "      <td>57000</td>\n",
       "      <td>0</td>\n",
       "      <td>1</td>\n",
       "      <td>0</td>\n",
       "    </tr>\n",
       "    <tr>\n",
       "      <th>4</th>\n",
       "      <td>19</td>\n",
       "      <td>76000</td>\n",
       "      <td>0</td>\n",
       "      <td>0</td>\n",
       "      <td>1</td>\n",
       "    </tr>\n",
       "    <tr>\n",
       "      <th>5</th>\n",
       "      <td>27</td>\n",
       "      <td>58000</td>\n",
       "      <td>0</td>\n",
       "      <td>0</td>\n",
       "      <td>1</td>\n",
       "    </tr>\n",
       "    <tr>\n",
       "      <th>6</th>\n",
       "      <td>27</td>\n",
       "      <td>84000</td>\n",
       "      <td>0</td>\n",
       "      <td>1</td>\n",
       "      <td>0</td>\n",
       "    </tr>\n",
       "    <tr>\n",
       "      <th>7</th>\n",
       "      <td>32</td>\n",
       "      <td>150000</td>\n",
       "      <td>1</td>\n",
       "      <td>1</td>\n",
       "      <td>0</td>\n",
       "    </tr>\n",
       "    <tr>\n",
       "      <th>8</th>\n",
       "      <td>25</td>\n",
       "      <td>33000</td>\n",
       "      <td>0</td>\n",
       "      <td>0</td>\n",
       "      <td>1</td>\n",
       "    </tr>\n",
       "    <tr>\n",
       "      <th>9</th>\n",
       "      <td>35</td>\n",
       "      <td>65000</td>\n",
       "      <td>0</td>\n",
       "      <td>1</td>\n",
       "      <td>0</td>\n",
       "    </tr>\n",
       "    <tr>\n",
       "      <th>10</th>\n",
       "      <td>26</td>\n",
       "      <td>80000</td>\n",
       "      <td>0</td>\n",
       "      <td>1</td>\n",
       "      <td>0</td>\n",
       "    </tr>\n",
       "    <tr>\n",
       "      <th>11</th>\n",
       "      <td>26</td>\n",
       "      <td>52000</td>\n",
       "      <td>0</td>\n",
       "      <td>1</td>\n",
       "      <td>0</td>\n",
       "    </tr>\n",
       "    <tr>\n",
       "      <th>12</th>\n",
       "      <td>20</td>\n",
       "      <td>86000</td>\n",
       "      <td>0</td>\n",
       "      <td>0</td>\n",
       "      <td>1</td>\n",
       "    </tr>\n",
       "    <tr>\n",
       "      <th>13</th>\n",
       "      <td>32</td>\n",
       "      <td>180000</td>\n",
       "      <td>0</td>\n",
       "      <td>0</td>\n",
       "      <td>1</td>\n",
       "    </tr>\n",
       "  </tbody>\n",
       "</table>\n",
       "</div>"
      ],
      "text/plain": [
       "    age  salary  purchase  Gender_female  Gender_male\n",
       "0    19   19000         0              0            0\n",
       "1    35   20000         0              0            0\n",
       "2    26   43000         0              1            0\n",
       "3    27   57000         0              1            0\n",
       "4    19   76000         0              0            1\n",
       "5    27   58000         0              0            1\n",
       "6    27   84000         0              1            0\n",
       "7    32  150000         1              1            0\n",
       "8    25   33000         0              0            1\n",
       "9    35   65000         0              1            0\n",
       "10   26   80000         0              1            0\n",
       "11   26   52000         0              1            0\n",
       "12   20   86000         0              0            1\n",
       "13   32  180000         0              0            1"
      ]
     },
     "execution_count": 217,
     "metadata": {},
     "output_type": "execute_result"
    }
   ],
   "source": [
    "df"
   ]
  },
  {
   "cell_type": "code",
   "execution_count": 218,
   "id": "295ac856",
   "metadata": {},
   "outputs": [],
   "source": [
    "x=df.iloc[:,[0,1,3,4]]"
   ]
  },
  {
   "cell_type": "code",
   "execution_count": 219,
   "id": "e39d022f",
   "metadata": {},
   "outputs": [],
   "source": [
    "y=df.iloc[:,2]"
   ]
  },
  {
   "cell_type": "code",
   "execution_count": 220,
   "id": "5e7b4732",
   "metadata": {},
   "outputs": [],
   "source": [
    "x=scl.fit_transform(x)"
   ]
  },
  {
   "cell_type": "code",
   "execution_count": 221,
   "id": "4b1fa9d6",
   "metadata": {},
   "outputs": [],
   "source": [
    "from sklearn.linear_model import LogisticRegression"
   ]
  },
  {
   "cell_type": "code",
   "execution_count": 222,
   "id": "38997621",
   "metadata": {},
   "outputs": [],
   "source": [
    "logre=LogisticRegression()"
   ]
  },
  {
   "cell_type": "code",
   "execution_count": 223,
   "id": "932a363f",
   "metadata": {},
   "outputs": [],
   "source": [
    "from sklearn.model_selection import train_test_split"
   ]
  },
  {
   "cell_type": "code",
   "execution_count": 224,
   "id": "6036ccae",
   "metadata": {},
   "outputs": [],
   "source": [
    "x_train,x_test,y_train,y_test=train_test_split(x,y,test_size=.2,)"
   ]
  },
  {
   "cell_type": "code",
   "execution_count": 225,
   "id": "c5221073",
   "metadata": {},
   "outputs": [
    {
     "name": "stdout",
     "output_type": "stream",
     "text": [
      "x_train.shape: (11, 4)\n",
      "x_test.shape: (3, 4)\n",
      "y_train.shape: (11,)\n",
      "y_test.shape: (3,)\n"
     ]
    }
   ],
   "source": [
    "list1=['x_train','x_test','y_train','y_test']\n",
    "list2=[x_train,x_test,y_train,y_test]\n",
    "for i,j in zip(list1,list2):\n",
    "    print(f'{i}.shape: {j.shape}')"
   ]
  },
  {
   "cell_type": "code",
   "execution_count": 226,
   "id": "3ae8807b",
   "metadata": {},
   "outputs": [
    {
     "data": {
      "text/plain": [
       "LogisticRegression()"
      ]
     },
     "execution_count": 226,
     "metadata": {},
     "output_type": "execute_result"
    }
   ],
   "source": [
    "logre.fit(x_train,y_train)"
   ]
  },
  {
   "cell_type": "code",
   "execution_count": 227,
   "id": "9dd853eb",
   "metadata": {},
   "outputs": [],
   "source": [
    "predict=logre.predict(x_test)"
   ]
  },
  {
   "cell_type": "code",
   "execution_count": 240,
   "id": "f937ace7",
   "metadata": {},
   "outputs": [],
   "source": [
    "from sklearn.metrics import confusion_matrix"
   ]
  },
  {
   "cell_type": "code",
   "execution_count": 242,
   "id": "d1bbdd86",
   "metadata": {},
   "outputs": [
    {
     "data": {
      "text/plain": [
       "array([[3]])"
      ]
     },
     "execution_count": 242,
     "metadata": {},
     "output_type": "execute_result"
    }
   ],
   "source": [
    "confusion_matrix(y_test,predict)"
   ]
  },
  {
   "cell_type": "code",
   "execution_count": 231,
   "id": "67262c79",
   "metadata": {},
   "outputs": [
    {
     "data": {
      "text/plain": [
       "array([[3]])"
      ]
     },
     "execution_count": 231,
     "metadata": {},
     "output_type": "execute_result"
    }
   ],
   "source": [
    "cmat"
   ]
  },
  {
   "cell_type": "markdown",
   "id": "35732ba8",
   "metadata": {},
   "source": [
    "# SGDRegressor"
   ]
  },
  {
   "cell_type": "code",
   "execution_count": 232,
   "id": "df661f88",
   "metadata": {},
   "outputs": [],
   "source": [
    "from sklearn.metrics import accuracy_score"
   ]
  },
  {
   "cell_type": "code",
   "execution_count": 233,
   "id": "74199eb7",
   "metadata": {},
   "outputs": [],
   "source": [
    "score=accuracy_score(y_test,predict)"
   ]
  },
  {
   "cell_type": "code",
   "execution_count": 234,
   "id": "21690f35",
   "metadata": {},
   "outputs": [
    {
     "data": {
      "text/plain": [
       "1.0"
      ]
     },
     "execution_count": 234,
     "metadata": {},
     "output_type": "execute_result"
    }
   ],
   "source": [
    "score"
   ]
  },
  {
   "cell_type": "code",
   "execution_count": 235,
   "id": "04edf5c5",
   "metadata": {},
   "outputs": [
    {
     "data": {
      "text/plain": [
       "array([0])"
      ]
     },
     "execution_count": 235,
     "metadata": {},
     "output_type": "execute_result"
    }
   ],
   "source": [
    "logre.predict([[0.4864,0.24854,0,1]])"
   ]
  },
  {
   "cell_type": "markdown",
   "id": "47bea7f3",
   "metadata": {},
   "source": [
    "x_train[0]"
   ]
  },
  {
   "cell_type": "code",
   "execution_count": 237,
   "id": "0044e364",
   "metadata": {},
   "outputs": [
    {
     "data": {
      "text/plain": [
       "0"
      ]
     },
     "execution_count": 237,
     "metadata": {},
     "output_type": "execute_result"
    }
   ],
   "source": [
    "y[0]"
   ]
  },
  {
   "cell_type": "code",
   "execution_count": 243,
   "id": "a06499f1",
   "metadata": {},
   "outputs": [],
   "source": [
    "from sklearn.datasets import make_regression"
   ]
  },
  {
   "cell_type": "code",
   "execution_count": 244,
   "id": "a8bc4fe2",
   "metadata": {},
   "outputs": [],
   "source": [
    "x,y=make_regression(n_samples=1000,n_features=50,n_targets=1)"
   ]
  },
  {
   "cell_type": "code",
   "execution_count": 245,
   "id": "77913427",
   "metadata": {},
   "outputs": [],
   "source": [
    "x_train,x_test,y_train,y_test=train_test_split(x,y,test_size=0.2,random_state=50)"
   ]
  },
  {
   "cell_type": "code",
   "execution_count": 246,
   "id": "0cfa5d8f",
   "metadata": {},
   "outputs": [],
   "source": [
    "from sklearn.linear_model import SGDRegressor"
   ]
  },
  {
   "cell_type": "code",
   "execution_count": 247,
   "id": "d1c7be60",
   "metadata": {},
   "outputs": [],
   "source": [
    "sgr=SGDRegressor()"
   ]
  },
  {
   "cell_type": "code",
   "execution_count": 248,
   "id": "48591fbc",
   "metadata": {},
   "outputs": [
    {
     "data": {
      "text/plain": [
       "SGDRegressor()"
      ]
     },
     "execution_count": 248,
     "metadata": {},
     "output_type": "execute_result"
    }
   ],
   "source": [
    "sgr.fit(x_train,y_train)"
   ]
  },
  {
   "cell_type": "code",
   "execution_count": 249,
   "id": "c864f7bc",
   "metadata": {},
   "outputs": [],
   "source": [
    "predict=sgr.predict(x_test)"
   ]
  },
  {
   "cell_type": "code",
   "execution_count": 250,
   "id": "a69d5648",
   "metadata": {},
   "outputs": [],
   "source": [
    "mse=mean_squared_error(y_test,predict)"
   ]
  },
  {
   "cell_type": "code",
   "execution_count": 251,
   "id": "d6d3ce76",
   "metadata": {},
   "outputs": [
    {
     "data": {
      "text/plain": [
       "0.00020547110805646144"
      ]
     },
     "execution_count": 251,
     "metadata": {},
     "output_type": "execute_result"
    }
   ],
   "source": [
    "mse"
   ]
  },
  {
   "cell_type": "code",
   "execution_count": 252,
   "id": "3a04934d",
   "metadata": {},
   "outputs": [],
   "source": [
    "score=r2_score(y_test,predict)"
   ]
  },
  {
   "cell_type": "code",
   "execution_count": 253,
   "id": "6e265227",
   "metadata": {},
   "outputs": [
    {
     "data": {
      "text/plain": [
       "0.9999999862609714"
      ]
     },
     "execution_count": 253,
     "metadata": {},
     "output_type": "execute_result"
    }
   ],
   "source": [
    "score"
   ]
  },
  {
   "cell_type": "markdown",
   "id": "416d80db",
   "metadata": {},
   "source": [
    "# SGDClassifier"
   ]
  },
  {
   "cell_type": "code",
   "execution_count": 254,
   "id": "ea839ef6",
   "metadata": {},
   "outputs": [],
   "source": [
    "from sklearn.datasets import make_classification"
   ]
  },
  {
   "cell_type": "code",
   "execution_count": 255,
   "id": "6b7ca26d",
   "metadata": {},
   "outputs": [],
   "source": [
    "x,y=make_classification()"
   ]
  },
  {
   "cell_type": "code",
   "execution_count": 256,
   "id": "7300f4da",
   "metadata": {},
   "outputs": [],
   "source": [
    "x_train,x_test,y_train,y_test=train_test_split(x,y,test_size=.2,)"
   ]
  },
  {
   "cell_type": "code",
   "execution_count": 257,
   "id": "39d707e9",
   "metadata": {},
   "outputs": [
    {
     "name": "stdout",
     "output_type": "stream",
     "text": [
      "x_train.shape: (80, 20)\n",
      "x_test.shape: (20, 20)\n",
      "y_train.shape: (80,)\n",
      "y_test.shape: (20,)\n"
     ]
    }
   ],
   "source": [
    "list1=['x_train','x_test','y_train','y_test']\n",
    "list2=[x_train,x_test,y_train,y_test]\n",
    "for i,j in zip(list1,list2):\n",
    "    print(f'{i}.shape: {j.shape}')"
   ]
  },
  {
   "cell_type": "code",
   "execution_count": 285,
   "id": "5472112e",
   "metadata": {},
   "outputs": [],
   "source": [
    "from sklearn.linear_model import SGDClassifier"
   ]
  },
  {
   "cell_type": "code",
   "execution_count": 296,
   "id": "77f2c1a9",
   "metadata": {},
   "outputs": [],
   "source": [
    "sclassifier=SGDClassifier(loss='hinge')"
   ]
  },
  {
   "cell_type": "code",
   "execution_count": 297,
   "id": "7a917b70",
   "metadata": {},
   "outputs": [
    {
     "data": {
      "text/plain": [
       "SGDClassifier()"
      ]
     },
     "execution_count": 297,
     "metadata": {},
     "output_type": "execute_result"
    }
   ],
   "source": [
    "sclassifier.fit(x_train,y_train)"
   ]
  },
  {
   "cell_type": "code",
   "execution_count": 298,
   "id": "7083005b",
   "metadata": {},
   "outputs": [],
   "source": [
    "predict=sclassifier.predict(x_test)"
   ]
  },
  {
   "cell_type": "code",
   "execution_count": 299,
   "id": "9c8f9f5d",
   "metadata": {},
   "outputs": [],
   "source": [
    "score=accuracy_score(y_test,predict)"
   ]
  },
  {
   "cell_type": "code",
   "execution_count": 300,
   "id": "c4b58531",
   "metadata": {},
   "outputs": [
    {
     "data": {
      "text/plain": [
       "0.8"
      ]
     },
     "execution_count": 300,
     "metadata": {},
     "output_type": "execute_result"
    }
   ],
   "source": [
    "score"
   ]
  },
  {
   "cell_type": "markdown",
   "id": "37002db9",
   "metadata": {},
   "source": [
    "# Support Vector Classifier"
   ]
  },
  {
   "cell_type": "code",
   "execution_count": 305,
   "id": "bb4cb1db",
   "metadata": {},
   "outputs": [],
   "source": [
    "from sklearn.svm import SVC"
   ]
  },
  {
   "cell_type": "code",
   "execution_count": 331,
   "id": "959428f5",
   "metadata": {},
   "outputs": [],
   "source": [
    "svc=SVC(C=2,kernel='linear')"
   ]
  },
  {
   "cell_type": "code",
   "execution_count": 332,
   "id": "596f5a6c",
   "metadata": {},
   "outputs": [
    {
     "data": {
      "text/plain": [
       "SVC(C=2, kernel='linear')"
      ]
     },
     "execution_count": 332,
     "metadata": {},
     "output_type": "execute_result"
    }
   ],
   "source": [
    "svc.fit(x_train,y_train)"
   ]
  },
  {
   "cell_type": "code",
   "execution_count": 333,
   "id": "583ff124",
   "metadata": {},
   "outputs": [],
   "source": [
    "predict=svc.predict(x_test)"
   ]
  },
  {
   "cell_type": "code",
   "execution_count": 334,
   "id": "d9764eb1",
   "metadata": {},
   "outputs": [
    {
     "data": {
      "text/plain": [
       "0.8"
      ]
     },
     "execution_count": 334,
     "metadata": {},
     "output_type": "execute_result"
    }
   ],
   "source": [
    "accuracy_score(y_test,predict)"
   ]
  },
  {
   "cell_type": "markdown",
   "id": "68fc037f",
   "metadata": {},
   "source": [
    "# Support Vector Regressor"
   ]
  },
  {
   "cell_type": "code",
   "execution_count": 335,
   "id": "1a87685b",
   "metadata": {},
   "outputs": [],
   "source": [
    "x,y=make_regression(n_samples=1000,n_features=20)"
   ]
  },
  {
   "cell_type": "code",
   "execution_count": 336,
   "id": "8a0ac8df",
   "metadata": {},
   "outputs": [],
   "source": [
    "x_train,x_test,y_train,y_test=train_test_split(x,y,test_size=0.2,random_state=50)"
   ]
  },
  {
   "cell_type": "code",
   "execution_count": 337,
   "id": "efa93a8d",
   "metadata": {},
   "outputs": [],
   "source": [
    "from sklearn.svm import SVR"
   ]
  },
  {
   "cell_type": "code",
   "execution_count": 343,
   "id": "b28cff07",
   "metadata": {},
   "outputs": [],
   "source": [
    "svr=SVR(kernel='linear')"
   ]
  },
  {
   "cell_type": "code",
   "execution_count": 344,
   "id": "c71f7337",
   "metadata": {},
   "outputs": [
    {
     "data": {
      "text/plain": [
       "SVR(kernel='linear')"
      ]
     },
     "execution_count": 344,
     "metadata": {},
     "output_type": "execute_result"
    }
   ],
   "source": [
    "svr.fit(x_train,y_train)"
   ]
  },
  {
   "cell_type": "code",
   "execution_count": 345,
   "id": "90df0188",
   "metadata": {},
   "outputs": [],
   "source": [
    "predict=svr.predict(x_test)"
   ]
  },
  {
   "cell_type": "code",
   "execution_count": 346,
   "id": "ce9d0437",
   "metadata": {},
   "outputs": [
    {
     "data": {
      "text/plain": [
       "0.0038717305593377127"
      ]
     },
     "execution_count": 346,
     "metadata": {},
     "output_type": "execute_result"
    }
   ],
   "source": [
    "mean_squared_error(y_test,predict)"
   ]
  },
  {
   "cell_type": "code",
   "execution_count": 347,
   "id": "96bb8dad",
   "metadata": {},
   "outputs": [
    {
     "data": {
      "text/plain": [
       "0.9999998785898156"
      ]
     },
     "execution_count": 347,
     "metadata": {},
     "output_type": "execute_result"
    }
   ],
   "source": [
    "r2_score(y_test,predict)"
   ]
  },
  {
   "cell_type": "markdown",
   "id": "6d6f62cc",
   "metadata": {},
   "source": [
    "# KNN Regressor"
   ]
  },
  {
   "cell_type": "code",
   "execution_count": 348,
   "id": "1fae2cd3",
   "metadata": {},
   "outputs": [],
   "source": [
    "from sklearn.neighbors import KNeighborsRegressor"
   ]
  },
  {
   "cell_type": "code",
   "execution_count": 379,
   "id": "0e2484e8",
   "metadata": {},
   "outputs": [],
   "source": [
    "knn=KNeighborsRegressor(n_neighbors=10,weights='distance')"
   ]
  },
  {
   "cell_type": "code",
   "execution_count": 380,
   "id": "c68744b8",
   "metadata": {},
   "outputs": [
    {
     "data": {
      "text/plain": [
       "KNeighborsRegressor(n_neighbors=10, weights='distance')"
      ]
     },
     "execution_count": 380,
     "metadata": {},
     "output_type": "execute_result"
    }
   ],
   "source": [
    "knn.fit(x_train,y_train)"
   ]
  },
  {
   "cell_type": "code",
   "execution_count": 381,
   "id": "71f60d22",
   "metadata": {},
   "outputs": [],
   "source": [
    "predict=knn.predict(x_test)"
   ]
  },
  {
   "cell_type": "code",
   "execution_count": 382,
   "id": "a3f4d087",
   "metadata": {},
   "outputs": [
    {
     "data": {
      "text/plain": [
       "11538.878045130847"
      ]
     },
     "execution_count": 382,
     "metadata": {},
     "output_type": "execute_result"
    }
   ],
   "source": [
    "mean_squared_error(y_test,predict)"
   ]
  },
  {
   "cell_type": "code",
   "execution_count": 383,
   "id": "82fd5757",
   "metadata": {},
   "outputs": [
    {
     "data": {
      "text/plain": [
       "0.6381624989318182"
      ]
     },
     "execution_count": 383,
     "metadata": {},
     "output_type": "execute_result"
    }
   ],
   "source": [
    "r2_score(y_test,predict)"
   ]
  },
  {
   "cell_type": "markdown",
   "id": "fc6153a7",
   "metadata": {},
   "source": [
    "# KNN Classifier"
   ]
  },
  {
   "cell_type": "code",
   "execution_count": 384,
   "id": "51e18dba",
   "metadata": {},
   "outputs": [],
   "source": [
    "x,y=make_classification(n_samples=1000,n_features=20,)"
   ]
  },
  {
   "cell_type": "code",
   "execution_count": 385,
   "id": "02ce0d9d",
   "metadata": {},
   "outputs": [
    {
     "data": {
      "text/plain": [
       "(1000, 20)"
      ]
     },
     "execution_count": 385,
     "metadata": {},
     "output_type": "execute_result"
    }
   ],
   "source": [
    "x.shape"
   ]
  },
  {
   "cell_type": "code",
   "execution_count": 386,
   "id": "68c36acd",
   "metadata": {},
   "outputs": [
    {
     "data": {
      "text/plain": [
       "(1000,)"
      ]
     },
     "execution_count": 386,
     "metadata": {},
     "output_type": "execute_result"
    }
   ],
   "source": [
    "y.shape"
   ]
  },
  {
   "cell_type": "code",
   "execution_count": 387,
   "id": "ff737bab",
   "metadata": {},
   "outputs": [],
   "source": [
    "x_train,x_test,y_train,y_test=train_test_split(x,y,test_size=0.2,random_state=20)"
   ]
  },
  {
   "cell_type": "code",
   "execution_count": 388,
   "id": "78d022ff",
   "metadata": {},
   "outputs": [],
   "source": [
    "from sklearn.neighbors import KNeighborsClassifier"
   ]
  },
  {
   "cell_type": "code",
   "execution_count": 401,
   "id": "6c7e5a3d",
   "metadata": {},
   "outputs": [],
   "source": [
    "knn=KNeighborsClassifier(n_neighbors=35)"
   ]
  },
  {
   "cell_type": "code",
   "execution_count": 402,
   "id": "61aad453",
   "metadata": {},
   "outputs": [
    {
     "data": {
      "text/plain": [
       "KNeighborsClassifier(n_neighbors=35)"
      ]
     },
     "execution_count": 402,
     "metadata": {},
     "output_type": "execute_result"
    }
   ],
   "source": [
    "knn.fit(x_train,y_train)"
   ]
  },
  {
   "cell_type": "code",
   "execution_count": 403,
   "id": "944ba977",
   "metadata": {},
   "outputs": [],
   "source": [
    "predict=knn.predict(x_test)"
   ]
  },
  {
   "cell_type": "code",
   "execution_count": 404,
   "id": "0db1baee",
   "metadata": {},
   "outputs": [
    {
     "data": {
      "text/plain": [
       "0.845"
      ]
     },
     "execution_count": 404,
     "metadata": {},
     "output_type": "execute_result"
    }
   ],
   "source": [
    "accuracy_score(y_test,predict)"
   ]
  },
  {
   "cell_type": "markdown",
   "id": "5e0e5acd",
   "metadata": {},
   "source": [
    "# Naive Bayes"
   ]
  },
  {
   "cell_type": "code",
   "execution_count": 405,
   "id": "043499eb",
   "metadata": {},
   "outputs": [],
   "source": [
    "from sklearn import naive_bayes"
   ]
  },
  {
   "cell_type": "code",
   "execution_count": 407,
   "id": "d652d4bc",
   "metadata": {},
   "outputs": [],
   "source": [
    "from sklearn.naive_bayes import GaussianNB,MultinomialNB,BernoulliNB"
   ]
  },
  {
   "cell_type": "code",
   "execution_count": 408,
   "id": "8e9e412f",
   "metadata": {},
   "outputs": [],
   "source": [
    "naive1=GaussianNB()"
   ]
  },
  {
   "cell_type": "code",
   "execution_count": 412,
   "id": "990ac953",
   "metadata": {},
   "outputs": [],
   "source": [
    "naive2=BernoulliNB()\n",
    "# naive3=MultinomialNB()"
   ]
  },
  {
   "cell_type": "code",
   "execution_count": 413,
   "id": "6ab50195",
   "metadata": {},
   "outputs": [
    {
     "data": {
      "text/plain": [
       "BernoulliNB()"
      ]
     },
     "execution_count": 413,
     "metadata": {},
     "output_type": "execute_result"
    }
   ],
   "source": [
    "naive1.fit(x_train,y_train)\n",
    "naive2.fit(x_train,y_train)\n",
    "naive3.fit(x_train,y_train)"
   ]
  },
  {
   "cell_type": "code",
   "execution_count": 415,
   "id": "ece657e2",
   "metadata": {},
   "outputs": [],
   "source": [
    "p1=naive1.predict(x_test)\n",
    "p2=naive2.predict(x_test)"
   ]
  },
  {
   "cell_type": "code",
   "execution_count": 416,
   "id": "d65c5f8a",
   "metadata": {},
   "outputs": [],
   "source": [
    "score1=accuracy_score(y_test,p1)\n",
    "score2=accuracy_score(y_test,p2)"
   ]
  },
  {
   "cell_type": "code",
   "execution_count": 417,
   "id": "9b98d9d0",
   "metadata": {},
   "outputs": [
    {
     "data": {
      "text/plain": [
       "0.87"
      ]
     },
     "execution_count": 417,
     "metadata": {},
     "output_type": "execute_result"
    }
   ],
   "source": [
    "score1"
   ]
  },
  {
   "cell_type": "code",
   "execution_count": 418,
   "id": "33013ac8",
   "metadata": {},
   "outputs": [
    {
     "data": {
      "text/plain": [
       "0.885"
      ]
     },
     "execution_count": 418,
     "metadata": {},
     "output_type": "execute_result"
    }
   ],
   "source": [
    "score2"
   ]
  },
  {
   "cell_type": "markdown",
   "id": "0cdf80d3",
   "metadata": {},
   "source": [
    "# DecisionTreeClassifier"
   ]
  },
  {
   "cell_type": "code",
   "execution_count": 419,
   "id": "0967dbd1",
   "metadata": {},
   "outputs": [],
   "source": [
    "from sklearn.tree import DecisionTreeClassifier"
   ]
  },
  {
   "cell_type": "code",
   "execution_count": 424,
   "id": "45e18955",
   "metadata": {},
   "outputs": [],
   "source": [
    "tree=DecisionTreeClassifier(max_depth=10,)"
   ]
  },
  {
   "cell_type": "code",
   "execution_count": 425,
   "id": "897a9c56",
   "metadata": {},
   "outputs": [
    {
     "data": {
      "text/plain": [
       "DecisionTreeClassifier(max_depth=10)"
      ]
     },
     "execution_count": 425,
     "metadata": {},
     "output_type": "execute_result"
    }
   ],
   "source": [
    "tree.fit(x_train,y_train)"
   ]
  },
  {
   "cell_type": "code",
   "execution_count": 426,
   "id": "29753871",
   "metadata": {},
   "outputs": [],
   "source": [
    "pred=tree.predict(x_test)"
   ]
  },
  {
   "cell_type": "code",
   "execution_count": 427,
   "id": "ce7f4e30",
   "metadata": {},
   "outputs": [
    {
     "data": {
      "text/plain": [
       "0.81"
      ]
     },
     "execution_count": 427,
     "metadata": {},
     "output_type": "execute_result"
    }
   ],
   "source": [
    "accuracy_score(y_test,pred)"
   ]
  },
  {
   "cell_type": "markdown",
   "id": "8360231f",
   "metadata": {},
   "source": [
    "# DecisionTreeRegressor"
   ]
  },
  {
   "cell_type": "code",
   "execution_count": 428,
   "id": "f298108b",
   "metadata": {},
   "outputs": [],
   "source": [
    "from sklearn.tree import DecisionTreeRegressor"
   ]
  },
  {
   "cell_type": "code",
   "execution_count": 437,
   "id": "9870928a",
   "metadata": {},
   "outputs": [],
   "source": [
    "tree=DecisionTreeRegressor(max_depth=20)"
   ]
  },
  {
   "cell_type": "code",
   "execution_count": 438,
   "id": "a8dce57a",
   "metadata": {},
   "outputs": [],
   "source": [
    "x,y=make_regression(n_samples=1500,n_features=20,)"
   ]
  },
  {
   "cell_type": "code",
   "execution_count": 439,
   "id": "9003c407",
   "metadata": {},
   "outputs": [],
   "source": [
    "x_train,x_test,y_train,y_test=train_test_split(x,y,test_size=.2,random_state=20)"
   ]
  },
  {
   "cell_type": "code",
   "execution_count": 440,
   "id": "d3806503",
   "metadata": {},
   "outputs": [
    {
     "data": {
      "text/plain": [
       "DecisionTreeRegressor(max_depth=20)"
      ]
     },
     "execution_count": 440,
     "metadata": {},
     "output_type": "execute_result"
    }
   ],
   "source": [
    "tree.fit(x_train,y_train)"
   ]
  },
  {
   "cell_type": "code",
   "execution_count": 441,
   "id": "c56579aa",
   "metadata": {},
   "outputs": [],
   "source": [
    "prd=tree.predict(x_test)"
   ]
  },
  {
   "cell_type": "code",
   "execution_count": 442,
   "id": "045e8424",
   "metadata": {},
   "outputs": [
    {
     "data": {
      "text/plain": [
       "8331.146962298202"
      ]
     },
     "execution_count": 442,
     "metadata": {},
     "output_type": "execute_result"
    }
   ],
   "source": [
    "mean_squared_error(y_test,prd)"
   ]
  },
  {
   "cell_type": "code",
   "execution_count": 443,
   "id": "31d5bf1d",
   "metadata": {},
   "outputs": [
    {
     "data": {
      "text/plain": [
       "0.6286207936984312"
      ]
     },
     "execution_count": 443,
     "metadata": {},
     "output_type": "execute_result"
    }
   ],
   "source": [
    "r2_score(y_test,prd)"
   ]
  },
  {
   "cell_type": "markdown",
   "id": "76ac75ea",
   "metadata": {},
   "source": [
    "# RandomForestRegressor"
   ]
  },
  {
   "cell_type": "code",
   "execution_count": 444,
   "id": "3f75aa8e",
   "metadata": {},
   "outputs": [],
   "source": [
    "from sklearn.ensemble import RandomForestRegressor"
   ]
  },
  {
   "cell_type": "code",
   "execution_count": 462,
   "id": "1a0bd50a",
   "metadata": {},
   "outputs": [],
   "source": [
    "rforest=RandomForestRegressor(n_estimators=150)"
   ]
  },
  {
   "cell_type": "code",
   "execution_count": 463,
   "id": "eeac9875",
   "metadata": {},
   "outputs": [
    {
     "data": {
      "text/plain": [
       "RandomForestRegressor(n_estimators=150)"
      ]
     },
     "execution_count": 463,
     "metadata": {},
     "output_type": "execute_result"
    }
   ],
   "source": [
    "rforest.fit(x_train,y_train)"
   ]
  },
  {
   "cell_type": "code",
   "execution_count": 464,
   "id": "5e8f82e9",
   "metadata": {},
   "outputs": [],
   "source": [
    "predict=rforest.predict(x_test)"
   ]
  },
  {
   "cell_type": "code",
   "execution_count": 465,
   "id": "16f97939",
   "metadata": {},
   "outputs": [
    {
     "data": {
      "text/plain": [
       "3494.753636010559"
      ]
     },
     "execution_count": 465,
     "metadata": {},
     "output_type": "execute_result"
    }
   ],
   "source": [
    "mean_squared_error(y_test,predict)"
   ]
  },
  {
   "cell_type": "code",
   "execution_count": 466,
   "id": "c5c7f139",
   "metadata": {},
   "outputs": [
    {
     "data": {
      "text/plain": [
       "0.8442136674056347"
      ]
     },
     "execution_count": 466,
     "metadata": {},
     "output_type": "execute_result"
    }
   ],
   "source": [
    "r2_score(y_test,predict)"
   ]
  },
  {
   "cell_type": "markdown",
   "id": "9a8fa785",
   "metadata": {},
   "source": [
    "# RandomForestClassifier"
   ]
  },
  {
   "cell_type": "code",
   "execution_count": 480,
   "id": "9a39fc97",
   "metadata": {},
   "outputs": [],
   "source": [
    "from sklearn.ensemble import RandomForestClassifier"
   ]
  },
  {
   "cell_type": "code",
   "execution_count": 481,
   "id": "2a47b5e8",
   "metadata": {},
   "outputs": [],
   "source": [
    "x,y=make_classification(n_samples=1500,n_features=20,n_t)"
   ]
  },
  {
   "cell_type": "code",
   "execution_count": 482,
   "id": "8afb3c8c",
   "metadata": {},
   "outputs": [],
   "source": [
    "x_train,x_test,y_train,y_test=train_test_split(x,y,test_size=0.2,random_state=50)"
   ]
  },
  {
   "cell_type": "code",
   "execution_count": 483,
   "id": "ca1f7d04",
   "metadata": {},
   "outputs": [
    {
     "data": {
      "text/plain": [
       "RandomForestRegressor(n_estimators=150)"
      ]
     },
     "execution_count": 483,
     "metadata": {},
     "output_type": "execute_result"
    }
   ],
   "source": [
    "rforest.fit(x_train,y_train)"
   ]
  },
  {
   "cell_type": "code",
   "execution_count": 484,
   "id": "7af60992",
   "metadata": {},
   "outputs": [],
   "source": [
    "predict=rforest.predict(x_test)"
   ]
  },
  {
   "cell_type": "code",
   "execution_count": 485,
   "id": "4aea9809",
   "metadata": {
    "scrolled": true
   },
   "outputs": [
    {
     "ename": "ValueError",
     "evalue": "Classification metrics can't handle a mix of binary and continuous targets",
     "output_type": "error",
     "traceback": [
      "\u001b[0;31m---------------------------------------------------------------------------\u001b[0m",
      "\u001b[0;31mValueError\u001b[0m                                Traceback (most recent call last)",
      "\u001b[0;32m/tmp/ipykernel_3759/3349287181.py\u001b[0m in \u001b[0;36m<module>\u001b[0;34m\u001b[0m\n\u001b[0;32m----> 1\u001b[0;31m \u001b[0maccuracy_score\u001b[0m\u001b[0;34m(\u001b[0m\u001b[0my_test\u001b[0m\u001b[0;34m,\u001b[0m\u001b[0mpredict\u001b[0m\u001b[0;34m)\u001b[0m\u001b[0;34m\u001b[0m\u001b[0;34m\u001b[0m\u001b[0m\n\u001b[0m",
      "\u001b[0;32m~/.local/lib/python3.8/site-packages/sklearn/utils/validation.py\u001b[0m in \u001b[0;36minner_f\u001b[0;34m(*args, **kwargs)\u001b[0m\n\u001b[1;32m     61\u001b[0m             \u001b[0mextra_args\u001b[0m \u001b[0;34m=\u001b[0m \u001b[0mlen\u001b[0m\u001b[0;34m(\u001b[0m\u001b[0margs\u001b[0m\u001b[0;34m)\u001b[0m \u001b[0;34m-\u001b[0m \u001b[0mlen\u001b[0m\u001b[0;34m(\u001b[0m\u001b[0mall_args\u001b[0m\u001b[0;34m)\u001b[0m\u001b[0;34m\u001b[0m\u001b[0;34m\u001b[0m\u001b[0m\n\u001b[1;32m     62\u001b[0m             \u001b[0;32mif\u001b[0m \u001b[0mextra_args\u001b[0m \u001b[0;34m<=\u001b[0m \u001b[0;36m0\u001b[0m\u001b[0;34m:\u001b[0m\u001b[0;34m\u001b[0m\u001b[0;34m\u001b[0m\u001b[0m\n\u001b[0;32m---> 63\u001b[0;31m                 \u001b[0;32mreturn\u001b[0m \u001b[0mf\u001b[0m\u001b[0;34m(\u001b[0m\u001b[0;34m*\u001b[0m\u001b[0margs\u001b[0m\u001b[0;34m,\u001b[0m \u001b[0;34m**\u001b[0m\u001b[0mkwargs\u001b[0m\u001b[0;34m)\u001b[0m\u001b[0;34m\u001b[0m\u001b[0;34m\u001b[0m\u001b[0m\n\u001b[0m\u001b[1;32m     64\u001b[0m \u001b[0;34m\u001b[0m\u001b[0m\n\u001b[1;32m     65\u001b[0m             \u001b[0;31m# extra_args > 0\u001b[0m\u001b[0;34m\u001b[0m\u001b[0;34m\u001b[0m\u001b[0;34m\u001b[0m\u001b[0m\n",
      "\u001b[0;32m~/.local/lib/python3.8/site-packages/sklearn/metrics/_classification.py\u001b[0m in \u001b[0;36maccuracy_score\u001b[0;34m(y_true, y_pred, normalize, sample_weight)\u001b[0m\n\u001b[1;32m    200\u001b[0m \u001b[0;34m\u001b[0m\u001b[0m\n\u001b[1;32m    201\u001b[0m     \u001b[0;31m# Compute accuracy for each possible representation\u001b[0m\u001b[0;34m\u001b[0m\u001b[0;34m\u001b[0m\u001b[0;34m\u001b[0m\u001b[0m\n\u001b[0;32m--> 202\u001b[0;31m     \u001b[0my_type\u001b[0m\u001b[0;34m,\u001b[0m \u001b[0my_true\u001b[0m\u001b[0;34m,\u001b[0m \u001b[0my_pred\u001b[0m \u001b[0;34m=\u001b[0m \u001b[0m_check_targets\u001b[0m\u001b[0;34m(\u001b[0m\u001b[0my_true\u001b[0m\u001b[0;34m,\u001b[0m \u001b[0my_pred\u001b[0m\u001b[0;34m)\u001b[0m\u001b[0;34m\u001b[0m\u001b[0;34m\u001b[0m\u001b[0m\n\u001b[0m\u001b[1;32m    203\u001b[0m     \u001b[0mcheck_consistent_length\u001b[0m\u001b[0;34m(\u001b[0m\u001b[0my_true\u001b[0m\u001b[0;34m,\u001b[0m \u001b[0my_pred\u001b[0m\u001b[0;34m,\u001b[0m \u001b[0msample_weight\u001b[0m\u001b[0;34m)\u001b[0m\u001b[0;34m\u001b[0m\u001b[0;34m\u001b[0m\u001b[0m\n\u001b[1;32m    204\u001b[0m     \u001b[0;32mif\u001b[0m \u001b[0my_type\u001b[0m\u001b[0;34m.\u001b[0m\u001b[0mstartswith\u001b[0m\u001b[0;34m(\u001b[0m\u001b[0;34m'multilabel'\u001b[0m\u001b[0;34m)\u001b[0m\u001b[0;34m:\u001b[0m\u001b[0;34m\u001b[0m\u001b[0;34m\u001b[0m\u001b[0m\n",
      "\u001b[0;32m~/.local/lib/python3.8/site-packages/sklearn/metrics/_classification.py\u001b[0m in \u001b[0;36m_check_targets\u001b[0;34m(y_true, y_pred)\u001b[0m\n\u001b[1;32m     90\u001b[0m \u001b[0;34m\u001b[0m\u001b[0m\n\u001b[1;32m     91\u001b[0m     \u001b[0;32mif\u001b[0m \u001b[0mlen\u001b[0m\u001b[0;34m(\u001b[0m\u001b[0my_type\u001b[0m\u001b[0;34m)\u001b[0m \u001b[0;34m>\u001b[0m \u001b[0;36m1\u001b[0m\u001b[0;34m:\u001b[0m\u001b[0;34m\u001b[0m\u001b[0;34m\u001b[0m\u001b[0m\n\u001b[0;32m---> 92\u001b[0;31m         raise ValueError(\"Classification metrics can't handle a mix of {0} \"\n\u001b[0m\u001b[1;32m     93\u001b[0m                          \"and {1} targets\".format(type_true, type_pred))\n\u001b[1;32m     94\u001b[0m \u001b[0;34m\u001b[0m\u001b[0m\n",
      "\u001b[0;31mValueError\u001b[0m: Classification metrics can't handle a mix of binary and continuous targets"
     ]
    }
   ],
   "source": [
    "accuracy_score(y_test,predict)"
   ]
  },
  {
   "cell_type": "code",
   "execution_count": null,
   "id": "9527e970",
   "metadata": {},
   "outputs": [],
   "source": []
  }
 ],
 "metadata": {
  "kernelspec": {
   "display_name": "Python 3 (ipykernel)",
   "language": "python",
   "name": "python3"
  },
  "language_info": {
   "codemirror_mode": {
    "name": "ipython",
    "version": 3
   },
   "file_extension": ".py",
   "mimetype": "text/x-python",
   "name": "python",
   "nbconvert_exporter": "python",
   "pygments_lexer": "ipython3",
   "version": "3.8.10"
  }
 },
 "nbformat": 4,
 "nbformat_minor": 5
}
